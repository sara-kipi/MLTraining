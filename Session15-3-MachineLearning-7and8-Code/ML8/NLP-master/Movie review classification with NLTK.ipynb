{
 "cells": [
  {
   "cell_type": "code",
   "execution_count": 1,
   "metadata": {},
   "outputs": [
    {
     "name": "stderr",
     "output_type": "stream",
     "text": [
      "C:\\ProgramData\\Anaconda3\\envs\\tfdeeplearning\\lib\\site-packages\\sklearn\\ensemble\\weight_boosting.py:29: DeprecationWarning: numpy.core.umath_tests is an internal NumPy module and should not be imported. It will be removed in a future NumPy release.\n",
      "  from numpy.core.umath_tests import inner1d\n"
     ]
    }
   ],
   "source": [
    "import random\n",
    "import nltk\n",
    "from nltk import NaiveBayesClassifier\n",
    "from nltk.corpus import movie_reviews\n",
    "from sklearn.feature_extraction import DictVectorizer\n",
    "from sklearn.ensemble import RandomForestClassifier\n",
    "from sklearn.metrics import accuracy_score\n",
    "from sklearn.metrics import confusion_matrix"
   ]
  },
  {
   "cell_type": "code",
   "execution_count": 2,
   "metadata": {},
   "outputs": [
    {
     "data": {
      "text/plain": [
       "['plot', ':', 'two', 'teen', 'couples', 'go', 'to', ...]"
      ]
     },
     "execution_count": 2,
     "metadata": {},
     "output_type": "execute_result"
    }
   ],
   "source": [
    "movie_reviews.words()"
   ]
  },
  {
   "cell_type": "code",
   "execution_count": 3,
   "metadata": {},
   "outputs": [
    {
     "data": {
      "text/plain": [
       "1583820"
      ]
     },
     "execution_count": 3,
     "metadata": {},
     "output_type": "execute_result"
    }
   ],
   "source": [
    "len(movie_reviews.words())"
   ]
  },
  {
   "cell_type": "code",
   "execution_count": 5,
   "metadata": {},
   "outputs": [
    {
     "data": {
      "text/plain": [
       "['neg', 'pos']"
      ]
     },
     "execution_count": 5,
     "metadata": {},
     "output_type": "execute_result"
    }
   ],
   "source": [
    "movie_reviews.categories()"
   ]
  },
  {
   "cell_type": "code",
   "execution_count": 12,
   "metadata": {},
   "outputs": [
    {
     "data": {
      "text/plain": [
       "['pos/cv000_29590.txt',\n",
       " 'pos/cv001_18431.txt',\n",
       " 'pos/cv002_15918.txt',\n",
       " 'pos/cv003_11664.txt',\n",
       " 'pos/cv004_11636.txt']"
      ]
     },
     "execution_count": 12,
     "metadata": {},
     "output_type": "execute_result"
    }
   ],
   "source": [
    "movie_reviews.fileids('pos')[:5]"
   ]
  },
  {
   "cell_type": "code",
   "execution_count": 19,
   "metadata": {},
   "outputs": [
    {
     "data": {
      "text/plain": [
       "['films', 'adapted', 'from', 'comic', 'books']"
      ]
     },
     "execution_count": 19,
     "metadata": {},
     "output_type": "execute_result"
    }
   ],
   "source": [
    "(list(movie_reviews.words('pos/cv000_29590.txt')),'pos')[0][:5]"
   ]
  },
  {
   "cell_type": "code",
   "execution_count": 22,
   "metadata": {},
   "outputs": [
    {
     "data": {
      "text/plain": [
       "['films', 'adapted', 'from', 'comic', 'books']"
      ]
     },
     "execution_count": 22,
     "metadata": {},
     "output_type": "execute_result"
    }
   ],
   "source": [
    "(list(movie_reviews.words('pos/cv000_29590.txt')))[:5]"
   ]
  },
  {
   "cell_type": "code",
   "execution_count": 53,
   "metadata": {},
   "outputs": [
    {
     "name": "stdout",
     "output_type": "stream",
     "text": [
      "cats :  ['neg', 'pos']\n",
      "(['now', ',', 'lets', 'first', 'look', 'into', 'the', 'history', 'of', 'shark', 'films', '.', 'there', 'was', 'the', 'unforgettable', 'jaws', '.', 'the', 'exciting', 'jaws', '2', '.', 'the', 'rather', 'flaky', 'jaws', '3d', 'and', 'sometime', 'in', 'the', 'late', '90s', 'another', 'film', 'of', 'the', 'same', 'genre', 'that', 'i', 'can', \"'\", 't', 'seem', 'to', 'recall', '(', 'about', 'the', 'son', 'of', 'jaws', 'returning', 'to', 'wreak', 'revenge', 'or', 'something', 'like', 'that', ')', '.', 'now', ',', 'with', 'the', 'magic', 'of', 'cgi', ',', 'one', 'shark', 'is', 'simply', 'not', 'enough', ';', 'in', 'deep', 'blue', 'sea', ',', 'there', 'are', '3', 'big', ',', 'mean', 'and', 'really', 'smart', 'ones', '!', 'russell', 'frankiln', '(', 'jackson', ')', 'visits', 'aquatica', '(', 'a', 'sea', '-', 'bound', 'research', 'center', ')', ',', 'where', 'a', 'research', 'is', 'being', 'conducted', 'on', 'the', 'extraction', 'of', 'a', 'hormone', 'substance', 'found', 'uniquely', 'within', 'the', 'shark', 'brain', 'that', 'can', 'cure', 'and', 'reverse', 'the', 'effects', 'of', 'alzheimer', \"'\", 's', 'disease', '.', 'the', 'substance', 'is', 'small', 'in', 'quantity', 'and', 'because', 'of', 'this', ',', 'lead', 'researcher', 'dr', '.', 'susan', 'macalaester', 'genetically', 'alters', 'the', 'shark', 'dna', 'and', 'grows', 'them', 'twice', 'the', 'size', 'with', 'brains', 'as', 'big', 'as', 'humans', ',', 'naturally', 'producing', 'more', 'of', 'the', 'much', 'treasured', 'hormones', '.', 'as', 'sure', 'as', 'the', 'sun', 'sets', 'in', 'the', 'west', ',', 'a', 'shark', 'breaks', 'lose', 'and', 'wreaks', 'havoc', 'within', 'the', 'facility', 'during', 'a', 'hormone', 'extraction', 'procedure', '.', 'with', 'the', 'flexibility', 'offered', 'by', 'cgi', ',', 'the', 'sharks', 'get', 'more', 'full', '-', 'length', 'screen', 'time', 'as', 'their', 'predecessors', 'did', 'in', 'those', 'remote', '-', 'controlled', 'rubber', 'suit', 'days', '.', 'gone', 'are', 'the', 'days', 'of', 'people', 'getting', 'pulled', 'under', 'the', 'water', 'with', 'the', 'water', 'turning', 'red', 'right', 'after', '.', 'this', 'time', ',', 'we', 'get', 'to', 'see', 'the', 'entire', 'gobbling', 'action', ',', 'with', 'floating', 'limbs', 'and', 'all', '.', 'so', '-', 'so', 'acting', ',', 'expected', 'in', 'most', 'of', 'your', 'average', 'action', 'film', '.', 'jackson', '(', 'fresh', 'from', 'his', 'jedi', 'master', 'role', 'in', 'the', 'phantom', 'menace', ')', ',', 'takes', 'on', 'the', 'dark', '-', 'side', 'force', 'of', 'a', 'different', 'kind', 'and', 'fits', 'well', 'with', 'his', 'wise', '-', 'cracking', 'lines', '.', 'll', 'cool', 'j', \"'\", 's', 'cook', 'role', 'as', 'preacher', ',', 'does', 'for', 'this', 'film', 'what', 'steven', 'seagal', \"'\", 's', 'cook', 'could', 'only', 'dream', 'to', 'achieve', 'in', 'his', 'two', 'under', 'siege', 'films', '.', 'deep', 'blue', 'sea', 'does', 'not', 'offer', 'any', 'of', 'the', 'psychological', 'thrills', 'that', 'jaws', 'has', 'to', 'offer', '.', 'it', 'does', 'however', ',', 'prove', 'to', 'be', 'a', 'refreshing', 'follow', '-', 'up', 'within', 'the', 'genre', ',', 'full', 'of', 'visual', 'thrills', ',', 'suspense', 'and', 'believe', 'it', 'or', 'not', '\\x05', 'humour', '!', 'its', 'like', 'jurassic', 'park', 'under', 'water', '.', 'nothing', 'too', 'stressful', ',', 'pure', 'entertainment', '.', 'renny', 'harlin', ',', 'you', 'are', 'forgiven', '(', 'for', 'making', 'cutthroat', 'island', ')', '.'], 'pos')\n"
     ]
    }
   ],
   "source": [
    "cats = movie_reviews.categories()\n",
    "print(\"cats : \",cats)\n",
    "reviews = []\n",
    "for cat in cats:\n",
    "    for fid in movie_reviews.fileids(cat):\n",
    "        #print(fid)\n",
    "        review = (list(movie_reviews.words(fid)),cat)\n",
    "        reviews.append(review)\n",
    "\n",
    "random.shuffle(reviews)\n",
    "print(reviews[0])"
   ]
  },
  {
   "cell_type": "code",
   "execution_count": 69,
   "metadata": {},
   "outputs": [
    {
     "name": "stdout",
     "output_type": "stream",
     "text": [
      "<class 'list'>\n"
     ]
    }
   ],
   "source": [
    "print(type(reviews))"
   ]
  },
  {
   "cell_type": "code",
   "execution_count": 72,
   "metadata": {},
   "outputs": [
    {
     "name": "stdout",
     "output_type": "stream",
     "text": [
      "2\n"
     ]
    }
   ],
   "source": [
    "print(len(reviews[1]))"
   ]
  },
  {
   "cell_type": "code",
   "execution_count": 77,
   "metadata": {},
   "outputs": [
    {
     "data": {
      "text/plain": [
       "'pos'"
      ]
     },
     "execution_count": 77,
     "metadata": {},
     "output_type": "execute_result"
    }
   ],
   "source": [
    "reviews[0][1]"
   ]
  },
  {
   "cell_type": "code",
   "execution_count": 80,
   "metadata": {},
   "outputs": [
    {
     "data": {
      "text/plain": [
       "'neg'"
      ]
     },
     "execution_count": 80,
     "metadata": {},
     "output_type": "execute_result"
    }
   ],
   "source": [
    "reviews[1][1]"
   ]
  },
  {
   "cell_type": "code",
   "execution_count": 83,
   "metadata": {},
   "outputs": [
    {
     "name": "stdout",
     "output_type": "stream",
     "text": [
      "True\n",
      "True\n",
      "False\n",
      "True\n",
      "False\n",
      "False\n",
      "True\n",
      "True\n",
      "True\n",
      "False\n",
      "True\n",
      "False\n",
      "False\n",
      "True\n",
      "False\n",
      "False\n",
      "True\n",
      "True\n",
      "True\n",
      "True\n",
      "True\n",
      "True\n",
      "True\n",
      "True\n",
      "True\n",
      "True\n",
      "False\n",
      "True\n",
      "False\n",
      "True\n",
      "True\n",
      "True\n",
      "True\n",
      "True\n",
      "True\n",
      "False\n",
      "False\n",
      "True\n",
      "True\n",
      "False\n",
      "True\n",
      "True\n",
      "True\n",
      "True\n",
      "True\n",
      "True\n",
      "True\n",
      "True\n",
      "False\n",
      "True\n",
      "False\n",
      "True\n",
      "False\n",
      "True\n",
      "True\n",
      "True\n",
      "False\n",
      "False\n",
      "True\n",
      "False\n",
      "False\n",
      "True\n",
      "True\n",
      "True\n",
      "False\n",
      "False\n",
      "True\n",
      "True\n",
      "True\n",
      "True\n",
      "True\n",
      "True\n",
      "False\n",
      "True\n",
      "True\n",
      "True\n",
      "True\n",
      "True\n",
      "False\n",
      "False\n",
      "True\n",
      "True\n",
      "True\n",
      "False\n",
      "True\n",
      "True\n",
      "True\n",
      "True\n",
      "True\n",
      "True\n",
      "True\n",
      "True\n",
      "True\n",
      "True\n",
      "False\n",
      "False\n",
      "True\n",
      "True\n",
      "True\n",
      "False\n",
      "False\n",
      "True\n",
      "True\n",
      "True\n",
      "False\n",
      "True\n",
      "True\n",
      "True\n",
      "False\n",
      "True\n",
      "True\n",
      "True\n",
      "True\n",
      "False\n",
      "False\n",
      "True\n",
      "True\n",
      "True\n",
      "True\n",
      "False\n",
      "True\n",
      "False\n",
      "True\n",
      "True\n",
      "True\n",
      "True\n",
      "False\n",
      "False\n",
      "True\n",
      "True\n",
      "True\n",
      "False\n",
      "True\n",
      "False\n",
      "True\n",
      "True\n",
      "True\n",
      "True\n",
      "True\n",
      "True\n",
      "True\n",
      "True\n",
      "True\n",
      "True\n",
      "True\n",
      "False\n",
      "True\n",
      "False\n",
      "False\n",
      "False\n",
      "False\n",
      "False\n",
      "False\n",
      "False\n",
      "False\n",
      "True\n",
      "True\n",
      "False\n",
      "True\n",
      "True\n",
      "True\n",
      "False\n",
      "False\n",
      "False\n",
      "False\n",
      "True\n",
      "True\n",
      "True\n",
      "True\n",
      "True\n",
      "True\n",
      "True\n",
      "True\n",
      "True\n",
      "True\n",
      "False\n",
      "True\n",
      "True\n",
      "True\n",
      "True\n",
      "True\n",
      "True\n",
      "True\n",
      "True\n",
      "True\n",
      "True\n",
      "True\n",
      "True\n",
      "False\n",
      "False\n",
      "True\n",
      "True\n",
      "False\n",
      "True\n",
      "True\n",
      "False\n",
      "True\n",
      "True\n",
      "True\n",
      "True\n",
      "False\n",
      "True\n",
      "True\n",
      "True\n",
      "False\n",
      "True\n",
      "True\n",
      "True\n",
      "True\n",
      "True\n",
      "True\n",
      "True\n",
      "True\n",
      "True\n",
      "False\n",
      "True\n",
      "False\n",
      "True\n",
      "True\n",
      "True\n",
      "True\n",
      "True\n",
      "False\n",
      "True\n",
      "True\n",
      "True\n",
      "True\n",
      "False\n",
      "True\n",
      "True\n",
      "False\n",
      "False\n",
      "True\n",
      "False\n",
      "True\n",
      "True\n",
      "False\n",
      "True\n",
      "False\n",
      "True\n"
     ]
    }
   ],
   "source": [
    "for word in set(reviews[0][0]):\n",
    "    print(word in top_wd_in_reviews)"
   ]
  },
  {
   "cell_type": "code",
   "execution_count": 33,
   "metadata": {},
   "outputs": [],
   "source": [
    "all_wd_in_reviews = nltk.FreqDist(wd.lower() for wd in movie_reviews.words())\n"
   ]
  },
  {
   "cell_type": "code",
   "execution_count": 40,
   "metadata": {},
   "outputs": [
    {
     "data": {
      "text/plain": [
       "[(',', 77717), ('the', 76529), ('.', 65876)]"
      ]
     },
     "execution_count": 40,
     "metadata": {},
     "output_type": "execute_result"
    }
   ],
   "source": [
    "all_wd_in_reviews.most_common(10)[:3]"
   ]
  },
  {
   "cell_type": "code",
   "execution_count": 50,
   "metadata": {},
   "outputs": [
    {
     "name": "stdout",
     "output_type": "stream",
     "text": [
      "[',', 'the', '.', 'a', 'and', 'of', 'to', \"'\", 'is', 'in']\n",
      "[77717, 76529, 65876, 38106, 35576, 34123, 31937, 30585, 25195, 21822]\n"
     ]
    }
   ],
   "source": [
    "for wds in zip(*all_wd_in_reviews.most_common(10)):\n",
    "    print(list(wds))\n"
   ]
  },
  {
   "cell_type": "code",
   "execution_count": 61,
   "metadata": {
    "collapsed": true
   },
   "outputs": [],
   "source": [
    "# here we are storing only the most frequently occuring 2000 words and their respective counts in second element of list \n",
    "#not considered\n",
    "top_wd_in_reviews = [list(wds) for wds in zip(*all_wd_in_reviews.most_common(2000))][0]"
   ]
  },
  {
   "cell_type": "code",
   "execution_count": 62,
   "metadata": {},
   "outputs": [],
   "source": [
    "#define a function to check if the review word either positive or negative is present in the first most common 2000 words\n",
    "def ext_ft(review,top_words):\n",
    "    review_wds = set(review)\n",
    "    ft = {}\n",
    "    for wd in top_words:\n",
    "        ft['word_present({})'.format(wd)] = (wd in review_wds)\n",
    "    return ft"
   ]
  },
  {
   "cell_type": "code",
   "execution_count": 64,
   "metadata": {
    "collapsed": true
   },
   "outputs": [],
   "source": [
    "#here d resembles review test words while c resembles review type  either 'pos' or 'neg'\n",
    "featuresets = [(ext_ft(d,top_wd_in_reviews), c) for (d,c) in reviews]"
   ]
  },
  {
   "cell_type": "code",
   "execution_count": 104,
   "metadata": {},
   "outputs": [
    {
     "data": {
      "text/plain": [
       "[('word_present(barely)', False),\n",
       " ('word_present(gangster)', False),\n",
       " ('word_present(moments)', False),\n",
       " ('word_present(house)', False),\n",
       " ('word_present(soon)', False)]"
      ]
     },
     "execution_count": 104,
     "metadata": {},
     "output_type": "execute_result"
    }
   ],
   "source": [
    "list(featuresets[0][0].items())[:5]"
   ]
  },
  {
   "cell_type": "code",
   "execution_count": 110,
   "metadata": {},
   "outputs": [
    {
     "data": {
      "text/plain": [
       "'pos'"
      ]
     },
     "execution_count": 110,
     "metadata": {},
     "output_type": "execute_result"
    }
   ],
   "source": [
    "featuresets[0][1]"
   ]
  },
  {
   "cell_type": "code",
   "execution_count": 112,
   "metadata": {},
   "outputs": [
    {
     "data": {
      "text/plain": [
       "200"
      ]
     },
     "execution_count": 112,
     "metadata": {},
     "output_type": "execute_result"
    }
   ],
   "source": [
    "len(featuresets[:200])"
   ]
  },
  {
   "cell_type": "code",
   "execution_count": 63,
   "metadata": {},
   "outputs": [],
   "source": [
    "#train test split for the related features\n",
    "train_set, test_set = featuresets[200:], featuresets[:200]"
   ]
  },
  {
   "cell_type": "code",
   "execution_count": 114,
   "metadata": {},
   "outputs": [],
   "source": [
    "# Training the data by building a naive bayes classifier\n",
    "classifier = nltk.NaiveBayesClassifier.train(train_set)"
   ]
  },
  {
   "cell_type": "code",
   "execution_count": 116,
   "metadata": {},
   "outputs": [
    {
     "name": "stdout",
     "output_type": "stream",
     "text": [
      "0.805\n"
     ]
    }
   ],
   "source": [
    "print(nltk.classify.accuracy(classifier, test_set))"
   ]
  },
  {
   "cell_type": "code",
   "execution_count": 118,
   "metadata": {},
   "outputs": [
    {
     "name": "stdout",
     "output_type": "stream",
     "text": [
      "Most Informative Features\n",
      "word_present(outstanding) = True              pos : neg    =     13.8 : 1.0\n",
      "    word_present(seagal) = True              neg : pos    =     12.9 : 1.0\n",
      "     word_present(mulan) = True              pos : neg    =      9.1 : 1.0\n",
      "word_present(wonderfully) = True              pos : neg    =      7.8 : 1.0\n",
      "     word_present(damon) = True              pos : neg    =      6.2 : 1.0\n",
      "    word_present(poorly) = True              neg : pos    =      6.0 : 1.0\n",
      "     word_present(flynt) = True              pos : neg    =      5.7 : 1.0\n",
      "     word_present(bland) = True              neg : pos    =      5.5 : 1.0\n",
      "     word_present(awful) = True              neg : pos    =      5.3 : 1.0\n",
      "      word_present(lame) = True              neg : pos    =      5.2 : 1.0\n",
      "    word_present(wasted) = True              neg : pos    =      5.2 : 1.0\n",
      "word_present(ridiculous) = True              neg : pos    =      5.0 : 1.0\n",
      "     word_present(waste) = True              neg : pos    =      4.8 : 1.0\n",
      "   word_present(unfunny) = True              neg : pos    =      4.5 : 1.0\n",
      " word_present(laughable) = True              neg : pos    =      4.5 : 1.0\n",
      "     word_present(worst) = True              neg : pos    =      4.2 : 1.0\n",
      "      word_present(dull) = True              neg : pos    =      4.1 : 1.0\n",
      "       word_present(era) = True              pos : neg    =      4.1 : 1.0\n",
      " word_present(portrayal) = True              pos : neg    =      3.9 : 1.0\n",
      "      word_present(mess) = True              neg : pos    =      3.9 : 1.0\n",
      "     word_present(hanks) = True              pos : neg    =      3.8 : 1.0\n",
      "    word_present(allows) = True              pos : neg    =      3.8 : 1.0\n",
      " word_present(memorable) = True              pos : neg    =      3.7 : 1.0\n",
      " word_present(fantastic) = True              pos : neg    =      3.7 : 1.0\n",
      "     word_present(damme) = True              neg : pos    =      3.6 : 1.0\n",
      "    word_present(superb) = True              pos : neg    =      3.6 : 1.0\n",
      " word_present(pointless) = True              neg : pos    =      3.6 : 1.0\n",
      "    word_present(stupid) = True              neg : pos    =      3.6 : 1.0\n",
      "    word_present(boring) = True              neg : pos    =      3.5 : 1.0\n",
      " word_present(portrayed) = True              pos : neg    =      3.5 : 1.0\n"
     ]
    }
   ],
   "source": [
    "classifier.show_most_informative_features(30)"
   ]
  },
  {
   "cell_type": "markdown",
   "metadata": {},
   "source": [
    "#### Using Random Forest Classifier\n"
   ]
  },
  {
   "cell_type": "code",
   "execution_count": 119,
   "metadata": {
    "collapsed": true
   },
   "outputs": [],
   "source": [
    "dict_vectorizer=None\n",
    "def get_train_test(train_set,test_set):\n",
    "    global dict_vectorizer\n",
    "    dict_vectorizer = DictVectorizer(sparse=False)\n",
    "    X_train, y_train = zip(*train_set)\n",
    "    X_train = dict_vectorizer.fit_transform(X_train)\n",
    "    X_test,y_test = zip(*test_set)\n",
    "    X_test = dict_vectorizer.transform(X_test)\n",
    "    return X_train,X_test,y_train,y_test"
   ]
  },
  {
   "cell_type": "code",
   "execution_count": 122,
   "metadata": {},
   "outputs": [
    {
     "name": "stdout",
     "output_type": "stream",
     "text": [
      "(1800, 2000)\n",
      "1800\n",
      "(200, 2000)\n",
      "200\n"
     ]
    }
   ],
   "source": [
    "X_train,X_test,y_train,y_test = get_train_test(train_set,test_set)\n",
    "print(X_train.shape)\n",
    "print(len(y_train))\n",
    "print(X_test.shape)\n",
    "print(len(y_test))"
   ]
  },
  {
   "cell_type": "code",
   "execution_count": 124,
   "metadata": {},
   "outputs": [],
   "source": [
    "#### Hyperparameter tuning using RandomizedSearchCV\n",
    "import numpy as np\n",
    "from sklearn.model_selection import RandomizedSearchCV\n",
    "# Number of trees in random forest\n",
    "n_estimators = [int(x) for x in np.linspace(start = 1, stop = 200, num = 10)]\n",
    "# Number of features to consider at every split\n",
    "max_features = ['auto', 'sqrt']\n",
    "# Maximum number of levels in tree\n",
    "max_depth = [int(x) for x in np.linspace(10, 110, num = 11)]\n",
    "max_depth.append(None)\n",
    "# Minimum number of samples required to split a node\n",
    "min_samples_split = [2, 5, 10]\n",
    "# Minimum number of samples required at each leaf node\n",
    "min_samples_leaf = [1, 2, 4]\n",
    "# Method of selecting samples for training each tree\n",
    "bootstrap = [True, False]"
   ]
  },
  {
   "cell_type": "code",
   "execution_count": 125,
   "metadata": {
    "collapsed": true
   },
   "outputs": [],
   "source": [
    "# Create the random grid\n",
    "random_grid = {'n_estimators': n_estimators,\n",
    "               'max_features': max_features,\n",
    "               'max_depth': max_depth,\n",
    "               'min_samples_split': min_samples_split,\n",
    "               'min_samples_leaf': min_samples_leaf,\n",
    "               'bootstrap': bootstrap}"
   ]
  },
  {
   "cell_type": "code",
   "execution_count": 127,
   "metadata": {},
   "outputs": [
    {
     "name": "stdout",
     "output_type": "stream",
     "text": [
      "Fitting 3 folds for each of 100 candidates, totalling 300 fits\n",
      "[CV] bootstrap=False, n_estimators=133, max_features=auto, min_samples_split=10, min_samples_leaf=2, max_depth=40 \n",
      "[CV]  bootstrap=False, n_estimators=133, max_features=auto, min_samples_split=10, min_samples_leaf=2, max_depth=40, total=   2.2s\n",
      "[CV] bootstrap=False, n_estimators=133, max_features=auto, min_samples_split=10, min_samples_leaf=2, max_depth=40 \n"
     ]
    },
    {
     "name": "stderr",
     "output_type": "stream",
     "text": [
      "[Parallel(n_jobs=1)]: Done   1 out of   1 | elapsed:    2.3s remaining:    0.0s\n"
     ]
    },
    {
     "name": "stdout",
     "output_type": "stream",
     "text": [
      "[CV]  bootstrap=False, n_estimators=133, max_features=auto, min_samples_split=10, min_samples_leaf=2, max_depth=40, total=   2.0s\n",
      "[CV] bootstrap=False, n_estimators=133, max_features=auto, min_samples_split=10, min_samples_leaf=2, max_depth=40 \n",
      "[CV]  bootstrap=False, n_estimators=133, max_features=auto, min_samples_split=10, min_samples_leaf=2, max_depth=40, total=   1.7s\n",
      "[CV] bootstrap=False, n_estimators=111, max_features=sqrt, min_samples_split=10, min_samples_leaf=1, max_depth=40 \n",
      "[CV]  bootstrap=False, n_estimators=111, max_features=sqrt, min_samples_split=10, min_samples_leaf=1, max_depth=40, total=   1.6s\n",
      "[CV] bootstrap=False, n_estimators=111, max_features=sqrt, min_samples_split=10, min_samples_leaf=1, max_depth=40 \n",
      "[CV]  bootstrap=False, n_estimators=111, max_features=sqrt, min_samples_split=10, min_samples_leaf=1, max_depth=40, total=   1.7s\n",
      "[CV] bootstrap=False, n_estimators=111, max_features=sqrt, min_samples_split=10, min_samples_leaf=1, max_depth=40 \n",
      "[CV]  bootstrap=False, n_estimators=111, max_features=sqrt, min_samples_split=10, min_samples_leaf=1, max_depth=40, total=   1.5s\n",
      "[CV] bootstrap=True, n_estimators=23, max_features=sqrt, min_samples_split=5, min_samples_leaf=4, max_depth=100 \n",
      "[CV]  bootstrap=True, n_estimators=23, max_features=sqrt, min_samples_split=5, min_samples_leaf=4, max_depth=100, total=   0.2s\n",
      "[CV] bootstrap=True, n_estimators=23, max_features=sqrt, min_samples_split=5, min_samples_leaf=4, max_depth=100 \n",
      "[CV]  bootstrap=True, n_estimators=23, max_features=sqrt, min_samples_split=5, min_samples_leaf=4, max_depth=100, total=   0.1s\n",
      "[CV] bootstrap=True, n_estimators=23, max_features=sqrt, min_samples_split=5, min_samples_leaf=4, max_depth=100 \n",
      "[CV]  bootstrap=True, n_estimators=23, max_features=sqrt, min_samples_split=5, min_samples_leaf=4, max_depth=100, total=   0.1s\n",
      "[CV] bootstrap=False, n_estimators=89, max_features=sqrt, min_samples_split=10, min_samples_leaf=4, max_depth=90 \n",
      "[CV]  bootstrap=False, n_estimators=89, max_features=sqrt, min_samples_split=10, min_samples_leaf=4, max_depth=90, total=   1.0s\n",
      "[CV] bootstrap=False, n_estimators=89, max_features=sqrt, min_samples_split=10, min_samples_leaf=4, max_depth=90 \n",
      "[CV]  bootstrap=False, n_estimators=89, max_features=sqrt, min_samples_split=10, min_samples_leaf=4, max_depth=90, total=   1.1s\n",
      "[CV] bootstrap=False, n_estimators=89, max_features=sqrt, min_samples_split=10, min_samples_leaf=4, max_depth=90 \n",
      "[CV]  bootstrap=False, n_estimators=89, max_features=sqrt, min_samples_split=10, min_samples_leaf=4, max_depth=90, total=   1.4s\n",
      "[CV] bootstrap=False, n_estimators=177, max_features=auto, min_samples_split=5, min_samples_leaf=2, max_depth=20 \n",
      "[CV]  bootstrap=False, n_estimators=177, max_features=auto, min_samples_split=5, min_samples_leaf=2, max_depth=20, total=   2.6s\n",
      "[CV] bootstrap=False, n_estimators=177, max_features=auto, min_samples_split=5, min_samples_leaf=2, max_depth=20 \n",
      "[CV]  bootstrap=False, n_estimators=177, max_features=auto, min_samples_split=5, min_samples_leaf=2, max_depth=20, total=   2.5s\n",
      "[CV] bootstrap=False, n_estimators=177, max_features=auto, min_samples_split=5, min_samples_leaf=2, max_depth=20 \n",
      "[CV]  bootstrap=False, n_estimators=177, max_features=auto, min_samples_split=5, min_samples_leaf=2, max_depth=20, total=   2.4s\n",
      "[CV] bootstrap=False, n_estimators=45, max_features=sqrt, min_samples_split=10, min_samples_leaf=2, max_depth=30 \n",
      "[CV]  bootstrap=False, n_estimators=45, max_features=sqrt, min_samples_split=10, min_samples_leaf=2, max_depth=30, total=   0.7s\n",
      "[CV] bootstrap=False, n_estimators=45, max_features=sqrt, min_samples_split=10, min_samples_leaf=2, max_depth=30 \n",
      "[CV]  bootstrap=False, n_estimators=45, max_features=sqrt, min_samples_split=10, min_samples_leaf=2, max_depth=30, total=   0.7s\n",
      "[CV] bootstrap=False, n_estimators=45, max_features=sqrt, min_samples_split=10, min_samples_leaf=2, max_depth=30 \n",
      "[CV]  bootstrap=False, n_estimators=45, max_features=sqrt, min_samples_split=10, min_samples_leaf=2, max_depth=30, total=   0.5s\n",
      "[CV] bootstrap=False, n_estimators=45, max_features=sqrt, min_samples_split=2, min_samples_leaf=4, max_depth=40 \n",
      "[CV]  bootstrap=False, n_estimators=45, max_features=sqrt, min_samples_split=2, min_samples_leaf=4, max_depth=40, total=   0.7s\n",
      "[CV] bootstrap=False, n_estimators=45, max_features=sqrt, min_samples_split=2, min_samples_leaf=4, max_depth=40 \n",
      "[CV]  bootstrap=False, n_estimators=45, max_features=sqrt, min_samples_split=2, min_samples_leaf=4, max_depth=40, total=   0.6s\n",
      "[CV] bootstrap=False, n_estimators=45, max_features=sqrt, min_samples_split=2, min_samples_leaf=4, max_depth=40 \n",
      "[CV]  bootstrap=False, n_estimators=45, max_features=sqrt, min_samples_split=2, min_samples_leaf=4, max_depth=40, total=   0.6s\n",
      "[CV] bootstrap=True, n_estimators=133, max_features=auto, min_samples_split=5, min_samples_leaf=4, max_depth=80 \n",
      "[CV]  bootstrap=True, n_estimators=133, max_features=auto, min_samples_split=5, min_samples_leaf=4, max_depth=80, total=   1.1s\n",
      "[CV] bootstrap=True, n_estimators=133, max_features=auto, min_samples_split=5, min_samples_leaf=4, max_depth=80 \n",
      "[CV]  bootstrap=True, n_estimators=133, max_features=auto, min_samples_split=5, min_samples_leaf=4, max_depth=80, total=   1.0s\n",
      "[CV] bootstrap=True, n_estimators=133, max_features=auto, min_samples_split=5, min_samples_leaf=4, max_depth=80 \n",
      "[CV]  bootstrap=True, n_estimators=133, max_features=auto, min_samples_split=5, min_samples_leaf=4, max_depth=80, total=   1.0s\n",
      "[CV] bootstrap=True, n_estimators=155, max_features=auto, min_samples_split=5, min_samples_leaf=1, max_depth=10 \n",
      "[CV]  bootstrap=True, n_estimators=155, max_features=auto, min_samples_split=5, min_samples_leaf=1, max_depth=10, total=   1.2s\n",
      "[CV] bootstrap=True, n_estimators=155, max_features=auto, min_samples_split=5, min_samples_leaf=1, max_depth=10 \n",
      "[CV]  bootstrap=True, n_estimators=155, max_features=auto, min_samples_split=5, min_samples_leaf=1, max_depth=10, total=   1.0s\n",
      "[CV] bootstrap=True, n_estimators=155, max_features=auto, min_samples_split=5, min_samples_leaf=1, max_depth=10 \n",
      "[CV]  bootstrap=True, n_estimators=155, max_features=auto, min_samples_split=5, min_samples_leaf=1, max_depth=10, total=   1.0s\n",
      "[CV] bootstrap=False, n_estimators=133, max_features=auto, min_samples_split=5, min_samples_leaf=4, max_depth=10 \n",
      "[CV]  bootstrap=False, n_estimators=133, max_features=auto, min_samples_split=5, min_samples_leaf=4, max_depth=10, total=   1.2s\n",
      "[CV] bootstrap=False, n_estimators=133, max_features=auto, min_samples_split=5, min_samples_leaf=4, max_depth=10 \n",
      "[CV]  bootstrap=False, n_estimators=133, max_features=auto, min_samples_split=5, min_samples_leaf=4, max_depth=10, total=   1.1s\n",
      "[CV] bootstrap=False, n_estimators=133, max_features=auto, min_samples_split=5, min_samples_leaf=4, max_depth=10 \n",
      "[CV]  bootstrap=False, n_estimators=133, max_features=auto, min_samples_split=5, min_samples_leaf=4, max_depth=10, total=   1.8s\n",
      "[CV] bootstrap=False, n_estimators=89, max_features=auto, min_samples_split=10, min_samples_leaf=2, max_depth=40 \n",
      "[CV]  bootstrap=False, n_estimators=89, max_features=auto, min_samples_split=10, min_samples_leaf=2, max_depth=40, total=   1.5s\n",
      "[CV] bootstrap=False, n_estimators=89, max_features=auto, min_samples_split=10, min_samples_leaf=2, max_depth=40 \n",
      "[CV]  bootstrap=False, n_estimators=89, max_features=auto, min_samples_split=10, min_samples_leaf=2, max_depth=40, total=   1.2s\n",
      "[CV] bootstrap=False, n_estimators=89, max_features=auto, min_samples_split=10, min_samples_leaf=2, max_depth=40 \n",
      "[CV]  bootstrap=False, n_estimators=89, max_features=auto, min_samples_split=10, min_samples_leaf=2, max_depth=40, total=   1.2s\n",
      "[CV] bootstrap=False, n_estimators=23, max_features=sqrt, min_samples_split=2, min_samples_leaf=4, max_depth=110 \n",
      "[CV]  bootstrap=False, n_estimators=23, max_features=sqrt, min_samples_split=2, min_samples_leaf=4, max_depth=110, total=   0.5s\n",
      "[CV] bootstrap=False, n_estimators=23, max_features=sqrt, min_samples_split=2, min_samples_leaf=4, max_depth=110 \n",
      "[CV]  bootstrap=False, n_estimators=23, max_features=sqrt, min_samples_split=2, min_samples_leaf=4, max_depth=110, total=   0.3s\n",
      "[CV] bootstrap=False, n_estimators=23, max_features=sqrt, min_samples_split=2, min_samples_leaf=4, max_depth=110 \n"
     ]
    },
    {
     "name": "stdout",
     "output_type": "stream",
     "text": [
      "[CV]  bootstrap=False, n_estimators=23, max_features=sqrt, min_samples_split=2, min_samples_leaf=4, max_depth=110, total=   0.2s\n",
      "[CV] bootstrap=True, n_estimators=67, max_features=auto, min_samples_split=2, min_samples_leaf=4, max_depth=None \n",
      "[CV]  bootstrap=True, n_estimators=67, max_features=auto, min_samples_split=2, min_samples_leaf=4, max_depth=None, total=   0.5s\n",
      "[CV] bootstrap=True, n_estimators=67, max_features=auto, min_samples_split=2, min_samples_leaf=4, max_depth=None \n",
      "[CV]  bootstrap=True, n_estimators=67, max_features=auto, min_samples_split=2, min_samples_leaf=4, max_depth=None, total=   0.5s\n",
      "[CV] bootstrap=True, n_estimators=67, max_features=auto, min_samples_split=2, min_samples_leaf=4, max_depth=None \n",
      "[CV]  bootstrap=True, n_estimators=67, max_features=auto, min_samples_split=2, min_samples_leaf=4, max_depth=None, total=   0.6s\n",
      "[CV] bootstrap=False, n_estimators=67, max_features=auto, min_samples_split=2, min_samples_leaf=1, max_depth=100 \n",
      "[CV]  bootstrap=False, n_estimators=67, max_features=auto, min_samples_split=2, min_samples_leaf=1, max_depth=100, total=   1.1s\n",
      "[CV] bootstrap=False, n_estimators=67, max_features=auto, min_samples_split=2, min_samples_leaf=1, max_depth=100 \n",
      "[CV]  bootstrap=False, n_estimators=67, max_features=auto, min_samples_split=2, min_samples_leaf=1, max_depth=100, total=   0.9s\n",
      "[CV] bootstrap=False, n_estimators=67, max_features=auto, min_samples_split=2, min_samples_leaf=1, max_depth=100 \n",
      "[CV]  bootstrap=False, n_estimators=67, max_features=auto, min_samples_split=2, min_samples_leaf=1, max_depth=100, total=   1.1s\n",
      "[CV] bootstrap=True, n_estimators=133, max_features=sqrt, min_samples_split=2, min_samples_leaf=1, max_depth=60 \n",
      "[CV]  bootstrap=True, n_estimators=133, max_features=sqrt, min_samples_split=2, min_samples_leaf=1, max_depth=60, total=   1.2s\n",
      "[CV] bootstrap=True, n_estimators=133, max_features=sqrt, min_samples_split=2, min_samples_leaf=1, max_depth=60 \n",
      "[CV]  bootstrap=True, n_estimators=133, max_features=sqrt, min_samples_split=2, min_samples_leaf=1, max_depth=60, total=   1.2s\n",
      "[CV] bootstrap=True, n_estimators=133, max_features=sqrt, min_samples_split=2, min_samples_leaf=1, max_depth=60 \n",
      "[CV]  bootstrap=True, n_estimators=133, max_features=sqrt, min_samples_split=2, min_samples_leaf=1, max_depth=60, total=   1.1s\n",
      "[CV] bootstrap=True, n_estimators=1, max_features=auto, min_samples_split=2, min_samples_leaf=4, max_depth=30 \n",
      "[CV]  bootstrap=True, n_estimators=1, max_features=auto, min_samples_split=2, min_samples_leaf=4, max_depth=30, total=   0.0s\n",
      "[CV] bootstrap=True, n_estimators=1, max_features=auto, min_samples_split=2, min_samples_leaf=4, max_depth=30 \n",
      "[CV]  bootstrap=True, n_estimators=1, max_features=auto, min_samples_split=2, min_samples_leaf=4, max_depth=30, total=   0.0s\n",
      "[CV] bootstrap=True, n_estimators=1, max_features=auto, min_samples_split=2, min_samples_leaf=4, max_depth=30 \n",
      "[CV]  bootstrap=True, n_estimators=1, max_features=auto, min_samples_split=2, min_samples_leaf=4, max_depth=30, total=   0.0s\n",
      "[CV] bootstrap=False, n_estimators=23, max_features=sqrt, min_samples_split=2, min_samples_leaf=2, max_depth=10 \n",
      "[CV]  bootstrap=False, n_estimators=23, max_features=sqrt, min_samples_split=2, min_samples_leaf=2, max_depth=10, total=   0.2s\n",
      "[CV] bootstrap=False, n_estimators=23, max_features=sqrt, min_samples_split=2, min_samples_leaf=2, max_depth=10 \n",
      "[CV]  bootstrap=False, n_estimators=23, max_features=sqrt, min_samples_split=2, min_samples_leaf=2, max_depth=10, total=   0.1s\n",
      "[CV] bootstrap=False, n_estimators=23, max_features=sqrt, min_samples_split=2, min_samples_leaf=2, max_depth=10 \n",
      "[CV]  bootstrap=False, n_estimators=23, max_features=sqrt, min_samples_split=2, min_samples_leaf=2, max_depth=10, total=   0.3s\n",
      "[CV] bootstrap=True, n_estimators=177, max_features=auto, min_samples_split=5, min_samples_leaf=1, max_depth=70 \n",
      "[CV]  bootstrap=True, n_estimators=177, max_features=auto, min_samples_split=5, min_samples_leaf=1, max_depth=70, total=   1.7s\n",
      "[CV] bootstrap=True, n_estimators=177, max_features=auto, min_samples_split=5, min_samples_leaf=1, max_depth=70 \n",
      "[CV]  bootstrap=True, n_estimators=177, max_features=auto, min_samples_split=5, min_samples_leaf=1, max_depth=70, total=   1.8s\n",
      "[CV] bootstrap=True, n_estimators=177, max_features=auto, min_samples_split=5, min_samples_leaf=1, max_depth=70 \n",
      "[CV]  bootstrap=True, n_estimators=177, max_features=auto, min_samples_split=5, min_samples_leaf=1, max_depth=70, total=   1.5s\n",
      "[CV] bootstrap=False, n_estimators=23, max_features=sqrt, min_samples_split=2, min_samples_leaf=1, max_depth=70 \n",
      "[CV]  bootstrap=False, n_estimators=23, max_features=sqrt, min_samples_split=2, min_samples_leaf=1, max_depth=70, total=   0.4s\n",
      "[CV] bootstrap=False, n_estimators=23, max_features=sqrt, min_samples_split=2, min_samples_leaf=1, max_depth=70 \n",
      "[CV]  bootstrap=False, n_estimators=23, max_features=sqrt, min_samples_split=2, min_samples_leaf=1, max_depth=70, total=   0.3s\n",
      "[CV] bootstrap=False, n_estimators=23, max_features=sqrt, min_samples_split=2, min_samples_leaf=1, max_depth=70 \n",
      "[CV]  bootstrap=False, n_estimators=23, max_features=sqrt, min_samples_split=2, min_samples_leaf=1, max_depth=70, total=   0.3s\n",
      "[CV] bootstrap=True, n_estimators=23, max_features=sqrt, min_samples_split=2, min_samples_leaf=2, max_depth=60 \n",
      "[CV]  bootstrap=True, n_estimators=23, max_features=sqrt, min_samples_split=2, min_samples_leaf=2, max_depth=60, total=   0.1s\n",
      "[CV] bootstrap=True, n_estimators=23, max_features=sqrt, min_samples_split=2, min_samples_leaf=2, max_depth=60 \n",
      "[CV]  bootstrap=True, n_estimators=23, max_features=sqrt, min_samples_split=2, min_samples_leaf=2, max_depth=60, total=   0.1s\n",
      "[CV] bootstrap=True, n_estimators=23, max_features=sqrt, min_samples_split=2, min_samples_leaf=2, max_depth=60 \n",
      "[CV]  bootstrap=True, n_estimators=23, max_features=sqrt, min_samples_split=2, min_samples_leaf=2, max_depth=60, total=   0.2s\n",
      "[CV] bootstrap=False, n_estimators=133, max_features=sqrt, min_samples_split=10, min_samples_leaf=2, max_depth=10 \n",
      "[CV]  bootstrap=False, n_estimators=133, max_features=sqrt, min_samples_split=10, min_samples_leaf=2, max_depth=10, total=   1.3s\n",
      "[CV] bootstrap=False, n_estimators=133, max_features=sqrt, min_samples_split=10, min_samples_leaf=2, max_depth=10 \n",
      "[CV]  bootstrap=False, n_estimators=133, max_features=sqrt, min_samples_split=10, min_samples_leaf=2, max_depth=10, total=   1.2s\n",
      "[CV] bootstrap=False, n_estimators=133, max_features=sqrt, min_samples_split=10, min_samples_leaf=2, max_depth=10 \n",
      "[CV]  bootstrap=False, n_estimators=133, max_features=sqrt, min_samples_split=10, min_samples_leaf=2, max_depth=10, total=   1.2s\n",
      "[CV] bootstrap=False, n_estimators=177, max_features=sqrt, min_samples_split=10, min_samples_leaf=1, max_depth=110 \n",
      "[CV]  bootstrap=False, n_estimators=177, max_features=sqrt, min_samples_split=10, min_samples_leaf=1, max_depth=110, total=   2.6s\n",
      "[CV] bootstrap=False, n_estimators=177, max_features=sqrt, min_samples_split=10, min_samples_leaf=1, max_depth=110 \n",
      "[CV]  bootstrap=False, n_estimators=177, max_features=sqrt, min_samples_split=10, min_samples_leaf=1, max_depth=110, total=   2.6s\n",
      "[CV] bootstrap=False, n_estimators=177, max_features=sqrt, min_samples_split=10, min_samples_leaf=1, max_depth=110 \n",
      "[CV]  bootstrap=False, n_estimators=177, max_features=sqrt, min_samples_split=10, min_samples_leaf=1, max_depth=110, total=   2.3s\n",
      "[CV] bootstrap=False, n_estimators=23, max_features=sqrt, min_samples_split=2, min_samples_leaf=2, max_depth=70 \n",
      "[CV]  bootstrap=False, n_estimators=23, max_features=sqrt, min_samples_split=2, min_samples_leaf=2, max_depth=70, total=   0.2s\n",
      "[CV] bootstrap=False, n_estimators=23, max_features=sqrt, min_samples_split=2, min_samples_leaf=2, max_depth=70 \n",
      "[CV]  bootstrap=False, n_estimators=23, max_features=sqrt, min_samples_split=2, min_samples_leaf=2, max_depth=70, total=   0.3s\n",
      "[CV] bootstrap=False, n_estimators=23, max_features=sqrt, min_samples_split=2, min_samples_leaf=2, max_depth=70 \n",
      "[CV]  bootstrap=False, n_estimators=23, max_features=sqrt, min_samples_split=2, min_samples_leaf=2, max_depth=70, total=   0.4s\n",
      "[CV] bootstrap=True, n_estimators=111, max_features=sqrt, min_samples_split=2, min_samples_leaf=2, max_depth=90 \n"
     ]
    },
    {
     "name": "stdout",
     "output_type": "stream",
     "text": [
      "[CV]  bootstrap=True, n_estimators=111, max_features=sqrt, min_samples_split=2, min_samples_leaf=2, max_depth=90, total=   0.9s\n",
      "[CV] bootstrap=True, n_estimators=111, max_features=sqrt, min_samples_split=2, min_samples_leaf=2, max_depth=90 \n",
      "[CV]  bootstrap=True, n_estimators=111, max_features=sqrt, min_samples_split=2, min_samples_leaf=2, max_depth=90, total=   1.0s\n",
      "[CV] bootstrap=True, n_estimators=111, max_features=sqrt, min_samples_split=2, min_samples_leaf=2, max_depth=90 \n",
      "[CV]  bootstrap=True, n_estimators=111, max_features=sqrt, min_samples_split=2, min_samples_leaf=2, max_depth=90, total=   1.1s\n",
      "[CV] bootstrap=False, n_estimators=111, max_features=sqrt, min_samples_split=10, min_samples_leaf=4, max_depth=None \n",
      "[CV]  bootstrap=False, n_estimators=111, max_features=sqrt, min_samples_split=10, min_samples_leaf=4, max_depth=None, total=   1.4s\n",
      "[CV] bootstrap=False, n_estimators=111, max_features=sqrt, min_samples_split=10, min_samples_leaf=4, max_depth=None \n",
      "[CV]  bootstrap=False, n_estimators=111, max_features=sqrt, min_samples_split=10, min_samples_leaf=4, max_depth=None, total=   1.4s\n",
      "[CV] bootstrap=False, n_estimators=111, max_features=sqrt, min_samples_split=10, min_samples_leaf=4, max_depth=None \n",
      "[CV]  bootstrap=False, n_estimators=111, max_features=sqrt, min_samples_split=10, min_samples_leaf=4, max_depth=None, total=   1.3s\n",
      "[CV] bootstrap=False, n_estimators=67, max_features=sqrt, min_samples_split=2, min_samples_leaf=1, max_depth=100 \n",
      "[CV]  bootstrap=False, n_estimators=67, max_features=sqrt, min_samples_split=2, min_samples_leaf=1, max_depth=100, total=   1.1s\n",
      "[CV] bootstrap=False, n_estimators=67, max_features=sqrt, min_samples_split=2, min_samples_leaf=1, max_depth=100 \n",
      "[CV]  bootstrap=False, n_estimators=67, max_features=sqrt, min_samples_split=2, min_samples_leaf=1, max_depth=100, total=   0.9s\n",
      "[CV] bootstrap=False, n_estimators=67, max_features=sqrt, min_samples_split=2, min_samples_leaf=1, max_depth=100 \n",
      "[CV]  bootstrap=False, n_estimators=67, max_features=sqrt, min_samples_split=2, min_samples_leaf=1, max_depth=100, total=   1.0s\n",
      "[CV] bootstrap=True, n_estimators=177, max_features=sqrt, min_samples_split=10, min_samples_leaf=4, max_depth=60 \n",
      "[CV]  bootstrap=True, n_estimators=177, max_features=sqrt, min_samples_split=10, min_samples_leaf=4, max_depth=60, total=   1.3s\n",
      "[CV] bootstrap=True, n_estimators=177, max_features=sqrt, min_samples_split=10, min_samples_leaf=4, max_depth=60 \n",
      "[CV]  bootstrap=True, n_estimators=177, max_features=sqrt, min_samples_split=10, min_samples_leaf=4, max_depth=60, total=   1.4s\n",
      "[CV] bootstrap=True, n_estimators=177, max_features=sqrt, min_samples_split=10, min_samples_leaf=4, max_depth=60 \n",
      "[CV]  bootstrap=True, n_estimators=177, max_features=sqrt, min_samples_split=10, min_samples_leaf=4, max_depth=60, total=   1.6s\n",
      "[CV] bootstrap=True, n_estimators=177, max_features=auto, min_samples_split=5, min_samples_leaf=4, max_depth=30 \n",
      "[CV]  bootstrap=True, n_estimators=177, max_features=auto, min_samples_split=5, min_samples_leaf=4, max_depth=30, total=   1.8s\n",
      "[CV] bootstrap=True, n_estimators=177, max_features=auto, min_samples_split=5, min_samples_leaf=4, max_depth=30 \n",
      "[CV]  bootstrap=True, n_estimators=177, max_features=auto, min_samples_split=5, min_samples_leaf=4, max_depth=30, total=   1.9s\n",
      "[CV] bootstrap=True, n_estimators=177, max_features=auto, min_samples_split=5, min_samples_leaf=4, max_depth=30 \n",
      "[CV]  bootstrap=True, n_estimators=177, max_features=auto, min_samples_split=5, min_samples_leaf=4, max_depth=30, total=   1.6s\n",
      "[CV] bootstrap=True, n_estimators=155, max_features=auto, min_samples_split=2, min_samples_leaf=1, max_depth=110 \n",
      "[CV]  bootstrap=True, n_estimators=155, max_features=auto, min_samples_split=2, min_samples_leaf=1, max_depth=110, total=   1.7s\n",
      "[CV] bootstrap=True, n_estimators=155, max_features=auto, min_samples_split=2, min_samples_leaf=1, max_depth=110 \n",
      "[CV]  bootstrap=True, n_estimators=155, max_features=auto, min_samples_split=2, min_samples_leaf=1, max_depth=110, total=   1.4s\n",
      "[CV] bootstrap=True, n_estimators=155, max_features=auto, min_samples_split=2, min_samples_leaf=1, max_depth=110 \n",
      "[CV]  bootstrap=True, n_estimators=155, max_features=auto, min_samples_split=2, min_samples_leaf=1, max_depth=110, total=   1.5s\n",
      "[CV] bootstrap=False, n_estimators=1, max_features=auto, min_samples_split=2, min_samples_leaf=1, max_depth=40 \n",
      "[CV]  bootstrap=False, n_estimators=1, max_features=auto, min_samples_split=2, min_samples_leaf=1, max_depth=40, total=   0.0s\n",
      "[CV] bootstrap=False, n_estimators=1, max_features=auto, min_samples_split=2, min_samples_leaf=1, max_depth=40 \n",
      "[CV]  bootstrap=False, n_estimators=1, max_features=auto, min_samples_split=2, min_samples_leaf=1, max_depth=40, total=   0.0s\n",
      "[CV] bootstrap=False, n_estimators=1, max_features=auto, min_samples_split=2, min_samples_leaf=1, max_depth=40 \n",
      "[CV]  bootstrap=False, n_estimators=1, max_features=auto, min_samples_split=2, min_samples_leaf=1, max_depth=40, total=   0.0s\n",
      "[CV] bootstrap=False, n_estimators=155, max_features=sqrt, min_samples_split=5, min_samples_leaf=4, max_depth=40 \n",
      "[CV]  bootstrap=False, n_estimators=155, max_features=sqrt, min_samples_split=5, min_samples_leaf=4, max_depth=40, total=   2.1s\n",
      "[CV] bootstrap=False, n_estimators=155, max_features=sqrt, min_samples_split=5, min_samples_leaf=4, max_depth=40 \n",
      "[CV]  bootstrap=False, n_estimators=155, max_features=sqrt, min_samples_split=5, min_samples_leaf=4, max_depth=40, total=   2.0s\n",
      "[CV] bootstrap=False, n_estimators=155, max_features=sqrt, min_samples_split=5, min_samples_leaf=4, max_depth=40 \n",
      "[CV]  bootstrap=False, n_estimators=155, max_features=sqrt, min_samples_split=5, min_samples_leaf=4, max_depth=40, total=   1.9s\n",
      "[CV] bootstrap=True, n_estimators=133, max_features=sqrt, min_samples_split=5, min_samples_leaf=2, max_depth=10 \n",
      "[CV]  bootstrap=True, n_estimators=133, max_features=sqrt, min_samples_split=5, min_samples_leaf=2, max_depth=10, total=   0.8s\n",
      "[CV] bootstrap=True, n_estimators=133, max_features=sqrt, min_samples_split=5, min_samples_leaf=2, max_depth=10 \n",
      "[CV]  bootstrap=True, n_estimators=133, max_features=sqrt, min_samples_split=5, min_samples_leaf=2, max_depth=10, total=   1.1s\n",
      "[CV] bootstrap=True, n_estimators=133, max_features=sqrt, min_samples_split=5, min_samples_leaf=2, max_depth=10 \n",
      "[CV]  bootstrap=True, n_estimators=133, max_features=sqrt, min_samples_split=5, min_samples_leaf=2, max_depth=10, total=   0.9s\n",
      "[CV] bootstrap=False, n_estimators=177, max_features=sqrt, min_samples_split=5, min_samples_leaf=1, max_depth=10 \n",
      "[CV]  bootstrap=False, n_estimators=177, max_features=sqrt, min_samples_split=5, min_samples_leaf=1, max_depth=10, total=   1.8s\n",
      "[CV] bootstrap=False, n_estimators=177, max_features=sqrt, min_samples_split=5, min_samples_leaf=1, max_depth=10 \n",
      "[CV]  bootstrap=False, n_estimators=177, max_features=sqrt, min_samples_split=5, min_samples_leaf=1, max_depth=10, total=   1.6s\n",
      "[CV] bootstrap=False, n_estimators=177, max_features=sqrt, min_samples_split=5, min_samples_leaf=1, max_depth=10 \n",
      "[CV]  bootstrap=False, n_estimators=177, max_features=sqrt, min_samples_split=5, min_samples_leaf=1, max_depth=10, total=   2.3s\n",
      "[CV] bootstrap=False, n_estimators=45, max_features=auto, min_samples_split=2, min_samples_leaf=1, max_depth=40 \n",
      "[CV]  bootstrap=False, n_estimators=45, max_features=auto, min_samples_split=2, min_samples_leaf=1, max_depth=40, total=   0.6s\n",
      "[CV] bootstrap=False, n_estimators=45, max_features=auto, min_samples_split=2, min_samples_leaf=1, max_depth=40 \n",
      "[CV]  bootstrap=False, n_estimators=45, max_features=auto, min_samples_split=2, min_samples_leaf=1, max_depth=40, total=   0.7s\n",
      "[CV] bootstrap=False, n_estimators=45, max_features=auto, min_samples_split=2, min_samples_leaf=1, max_depth=40 \n",
      "[CV]  bootstrap=False, n_estimators=45, max_features=auto, min_samples_split=2, min_samples_leaf=1, max_depth=40, total=   0.6s\n",
      "[CV] bootstrap=True, n_estimators=200, max_features=sqrt, min_samples_split=10, min_samples_leaf=1, max_depth=20 \n",
      "[CV]  bootstrap=True, n_estimators=200, max_features=sqrt, min_samples_split=10, min_samples_leaf=1, max_depth=20, total=   1.8s\n",
      "[CV] bootstrap=True, n_estimators=200, max_features=sqrt, min_samples_split=10, min_samples_leaf=1, max_depth=20 \n"
     ]
    },
    {
     "name": "stdout",
     "output_type": "stream",
     "text": [
      "[CV]  bootstrap=True, n_estimators=200, max_features=sqrt, min_samples_split=10, min_samples_leaf=1, max_depth=20, total=   1.7s\n",
      "[CV] bootstrap=True, n_estimators=200, max_features=sqrt, min_samples_split=10, min_samples_leaf=1, max_depth=20 \n",
      "[CV]  bootstrap=True, n_estimators=200, max_features=sqrt, min_samples_split=10, min_samples_leaf=1, max_depth=20, total=   1.9s\n",
      "[CV] bootstrap=True, n_estimators=155, max_features=sqrt, min_samples_split=2, min_samples_leaf=4, max_depth=70 \n",
      "[CV]  bootstrap=True, n_estimators=155, max_features=sqrt, min_samples_split=2, min_samples_leaf=4, max_depth=70, total=   1.4s\n",
      "[CV] bootstrap=True, n_estimators=155, max_features=sqrt, min_samples_split=2, min_samples_leaf=4, max_depth=70 \n",
      "[CV]  bootstrap=True, n_estimators=155, max_features=sqrt, min_samples_split=2, min_samples_leaf=4, max_depth=70, total=   1.4s\n",
      "[CV] bootstrap=True, n_estimators=155, max_features=sqrt, min_samples_split=2, min_samples_leaf=4, max_depth=70 \n",
      "[CV]  bootstrap=True, n_estimators=155, max_features=sqrt, min_samples_split=2, min_samples_leaf=4, max_depth=70, total=   1.2s\n",
      "[CV] bootstrap=True, n_estimators=111, max_features=sqrt, min_samples_split=5, min_samples_leaf=2, max_depth=None \n",
      "[CV]  bootstrap=True, n_estimators=111, max_features=sqrt, min_samples_split=5, min_samples_leaf=2, max_depth=None, total=   0.9s\n",
      "[CV] bootstrap=True, n_estimators=111, max_features=sqrt, min_samples_split=5, min_samples_leaf=2, max_depth=None \n",
      "[CV]  bootstrap=True, n_estimators=111, max_features=sqrt, min_samples_split=5, min_samples_leaf=2, max_depth=None, total=   0.9s\n",
      "[CV] bootstrap=True, n_estimators=111, max_features=sqrt, min_samples_split=5, min_samples_leaf=2, max_depth=None \n",
      "[CV]  bootstrap=True, n_estimators=111, max_features=sqrt, min_samples_split=5, min_samples_leaf=2, max_depth=None, total=   1.0s\n",
      "[CV] bootstrap=True, n_estimators=155, max_features=sqrt, min_samples_split=10, min_samples_leaf=2, max_depth=90 \n",
      "[CV]  bootstrap=True, n_estimators=155, max_features=sqrt, min_samples_split=10, min_samples_leaf=2, max_depth=90, total=   1.3s\n",
      "[CV] bootstrap=True, n_estimators=155, max_features=sqrt, min_samples_split=10, min_samples_leaf=2, max_depth=90 \n",
      "[CV]  bootstrap=True, n_estimators=155, max_features=sqrt, min_samples_split=10, min_samples_leaf=2, max_depth=90, total=   1.4s\n",
      "[CV] bootstrap=True, n_estimators=155, max_features=sqrt, min_samples_split=10, min_samples_leaf=2, max_depth=90 \n",
      "[CV]  bootstrap=True, n_estimators=155, max_features=sqrt, min_samples_split=10, min_samples_leaf=2, max_depth=90, total=   1.3s\n",
      "[CV] bootstrap=True, n_estimators=1, max_features=sqrt, min_samples_split=5, min_samples_leaf=1, max_depth=110 \n",
      "[CV]  bootstrap=True, n_estimators=1, max_features=sqrt, min_samples_split=5, min_samples_leaf=1, max_depth=110, total=   0.0s\n",
      "[CV] bootstrap=True, n_estimators=1, max_features=sqrt, min_samples_split=5, min_samples_leaf=1, max_depth=110 \n",
      "[CV]  bootstrap=True, n_estimators=1, max_features=sqrt, min_samples_split=5, min_samples_leaf=1, max_depth=110, total=   0.0s\n",
      "[CV] bootstrap=True, n_estimators=1, max_features=sqrt, min_samples_split=5, min_samples_leaf=1, max_depth=110 \n",
      "[CV]  bootstrap=True, n_estimators=1, max_features=sqrt, min_samples_split=5, min_samples_leaf=1, max_depth=110, total=   0.0s\n",
      "[CV] bootstrap=False, n_estimators=155, max_features=sqrt, min_samples_split=2, min_samples_leaf=4, max_depth=30 \n",
      "[CV]  bootstrap=False, n_estimators=155, max_features=sqrt, min_samples_split=2, min_samples_leaf=4, max_depth=30, total=   2.1s\n",
      "[CV] bootstrap=False, n_estimators=155, max_features=sqrt, min_samples_split=2, min_samples_leaf=4, max_depth=30 \n",
      "[CV]  bootstrap=False, n_estimators=155, max_features=sqrt, min_samples_split=2, min_samples_leaf=4, max_depth=30, total=   1.9s\n",
      "[CV] bootstrap=False, n_estimators=155, max_features=sqrt, min_samples_split=2, min_samples_leaf=4, max_depth=30 \n",
      "[CV]  bootstrap=False, n_estimators=155, max_features=sqrt, min_samples_split=2, min_samples_leaf=4, max_depth=30, total=   1.8s\n",
      "[CV] bootstrap=False, n_estimators=155, max_features=auto, min_samples_split=2, min_samples_leaf=4, max_depth=60 \n",
      "[CV]  bootstrap=False, n_estimators=155, max_features=auto, min_samples_split=2, min_samples_leaf=4, max_depth=60, total=   2.1s\n",
      "[CV] bootstrap=False, n_estimators=155, max_features=auto, min_samples_split=2, min_samples_leaf=4, max_depth=60 \n",
      "[CV]  bootstrap=False, n_estimators=155, max_features=auto, min_samples_split=2, min_samples_leaf=4, max_depth=60, total=   2.0s\n",
      "[CV] bootstrap=False, n_estimators=155, max_features=auto, min_samples_split=2, min_samples_leaf=4, max_depth=60 \n",
      "[CV]  bootstrap=False, n_estimators=155, max_features=auto, min_samples_split=2, min_samples_leaf=4, max_depth=60, total=   1.9s\n",
      "[CV] bootstrap=False, n_estimators=133, max_features=sqrt, min_samples_split=10, min_samples_leaf=4, max_depth=10 \n",
      "[CV]  bootstrap=False, n_estimators=133, max_features=sqrt, min_samples_split=10, min_samples_leaf=4, max_depth=10, total=   1.4s\n",
      "[CV] bootstrap=False, n_estimators=133, max_features=sqrt, min_samples_split=10, min_samples_leaf=4, max_depth=10 \n",
      "[CV]  bootstrap=False, n_estimators=133, max_features=sqrt, min_samples_split=10, min_samples_leaf=4, max_depth=10, total=   1.2s\n",
      "[CV] bootstrap=False, n_estimators=133, max_features=sqrt, min_samples_split=10, min_samples_leaf=4, max_depth=10 \n",
      "[CV]  bootstrap=False, n_estimators=133, max_features=sqrt, min_samples_split=10, min_samples_leaf=4, max_depth=10, total=   1.2s\n",
      "[CV] bootstrap=False, n_estimators=67, max_features=auto, min_samples_split=5, min_samples_leaf=4, max_depth=90 \n",
      "[CV]  bootstrap=False, n_estimators=67, max_features=auto, min_samples_split=5, min_samples_leaf=4, max_depth=90, total=   0.8s\n",
      "[CV] bootstrap=False, n_estimators=67, max_features=auto, min_samples_split=5, min_samples_leaf=4, max_depth=90 \n",
      "[CV]  bootstrap=False, n_estimators=67, max_features=auto, min_samples_split=5, min_samples_leaf=4, max_depth=90, total=   0.9s\n",
      "[CV] bootstrap=False, n_estimators=67, max_features=auto, min_samples_split=5, min_samples_leaf=4, max_depth=90 \n",
      "[CV]  bootstrap=False, n_estimators=67, max_features=auto, min_samples_split=5, min_samples_leaf=4, max_depth=90, total=   0.9s\n",
      "[CV] bootstrap=True, n_estimators=155, max_features=sqrt, min_samples_split=5, min_samples_leaf=2, max_depth=70 \n",
      "[CV]  bootstrap=True, n_estimators=155, max_features=sqrt, min_samples_split=5, min_samples_leaf=2, max_depth=70, total=   1.3s\n",
      "[CV] bootstrap=True, n_estimators=155, max_features=sqrt, min_samples_split=5, min_samples_leaf=2, max_depth=70 \n",
      "[CV]  bootstrap=True, n_estimators=155, max_features=sqrt, min_samples_split=5, min_samples_leaf=2, max_depth=70, total=   1.4s\n",
      "[CV] bootstrap=True, n_estimators=155, max_features=sqrt, min_samples_split=5, min_samples_leaf=2, max_depth=70 \n",
      "[CV]  bootstrap=True, n_estimators=155, max_features=sqrt, min_samples_split=5, min_samples_leaf=2, max_depth=70, total=   1.2s\n",
      "[CV] bootstrap=False, n_estimators=133, max_features=sqrt, min_samples_split=5, min_samples_leaf=4, max_depth=60 \n",
      "[CV]  bootstrap=False, n_estimators=133, max_features=sqrt, min_samples_split=5, min_samples_leaf=4, max_depth=60, total=   1.9s\n",
      "[CV] bootstrap=False, n_estimators=133, max_features=sqrt, min_samples_split=5, min_samples_leaf=4, max_depth=60 \n",
      "[CV]  bootstrap=False, n_estimators=133, max_features=sqrt, min_samples_split=5, min_samples_leaf=4, max_depth=60, total=   1.7s\n",
      "[CV] bootstrap=False, n_estimators=133, max_features=sqrt, min_samples_split=5, min_samples_leaf=4, max_depth=60 \n",
      "[CV]  bootstrap=False, n_estimators=133, max_features=sqrt, min_samples_split=5, min_samples_leaf=4, max_depth=60, total=   1.6s\n",
      "[CV] bootstrap=False, n_estimators=133, max_features=sqrt, min_samples_split=5, min_samples_leaf=1, max_depth=110 \n",
      "[CV]  bootstrap=False, n_estimators=133, max_features=sqrt, min_samples_split=5, min_samples_leaf=1, max_depth=110, total=   2.0s\n",
      "[CV] bootstrap=False, n_estimators=133, max_features=sqrt, min_samples_split=5, min_samples_leaf=1, max_depth=110 \n",
      "[CV]  bootstrap=False, n_estimators=133, max_features=sqrt, min_samples_split=5, min_samples_leaf=1, max_depth=110, total=   1.9s\n",
      "[CV] bootstrap=False, n_estimators=133, max_features=sqrt, min_samples_split=5, min_samples_leaf=1, max_depth=110 \n"
     ]
    },
    {
     "name": "stdout",
     "output_type": "stream",
     "text": [
      "[CV]  bootstrap=False, n_estimators=133, max_features=sqrt, min_samples_split=5, min_samples_leaf=1, max_depth=110, total=   1.7s\n",
      "[CV] bootstrap=True, n_estimators=200, max_features=sqrt, min_samples_split=2, min_samples_leaf=1, max_depth=70 \n",
      "[CV]  bootstrap=True, n_estimators=200, max_features=sqrt, min_samples_split=2, min_samples_leaf=1, max_depth=70, total=   2.1s\n",
      "[CV] bootstrap=True, n_estimators=200, max_features=sqrt, min_samples_split=2, min_samples_leaf=1, max_depth=70 \n",
      "[CV]  bootstrap=True, n_estimators=200, max_features=sqrt, min_samples_split=2, min_samples_leaf=1, max_depth=70, total=   1.9s\n",
      "[CV] bootstrap=True, n_estimators=200, max_features=sqrt, min_samples_split=2, min_samples_leaf=1, max_depth=70 \n",
      "[CV]  bootstrap=True, n_estimators=200, max_features=sqrt, min_samples_split=2, min_samples_leaf=1, max_depth=70, total=   1.8s\n",
      "[CV] bootstrap=False, n_estimators=1, max_features=auto, min_samples_split=10, min_samples_leaf=1, max_depth=20 \n",
      "[CV]  bootstrap=False, n_estimators=1, max_features=auto, min_samples_split=10, min_samples_leaf=1, max_depth=20, total=   0.0s\n",
      "[CV] bootstrap=False, n_estimators=1, max_features=auto, min_samples_split=10, min_samples_leaf=1, max_depth=20 \n",
      "[CV]  bootstrap=False, n_estimators=1, max_features=auto, min_samples_split=10, min_samples_leaf=1, max_depth=20, total=   0.0s\n",
      "[CV] bootstrap=False, n_estimators=1, max_features=auto, min_samples_split=10, min_samples_leaf=1, max_depth=20 \n",
      "[CV]  bootstrap=False, n_estimators=1, max_features=auto, min_samples_split=10, min_samples_leaf=1, max_depth=20, total=   0.0s\n",
      "[CV] bootstrap=True, n_estimators=1, max_features=sqrt, min_samples_split=2, min_samples_leaf=1, max_depth=10 \n",
      "[CV]  bootstrap=True, n_estimators=1, max_features=sqrt, min_samples_split=2, min_samples_leaf=1, max_depth=10, total=   0.0s\n",
      "[CV] bootstrap=True, n_estimators=1, max_features=sqrt, min_samples_split=2, min_samples_leaf=1, max_depth=10 \n",
      "[CV]  bootstrap=True, n_estimators=1, max_features=sqrt, min_samples_split=2, min_samples_leaf=1, max_depth=10, total=   0.0s\n",
      "[CV] bootstrap=True, n_estimators=1, max_features=sqrt, min_samples_split=2, min_samples_leaf=1, max_depth=10 \n",
      "[CV]  bootstrap=True, n_estimators=1, max_features=sqrt, min_samples_split=2, min_samples_leaf=1, max_depth=10, total=   0.0s\n",
      "[CV] bootstrap=True, n_estimators=133, max_features=sqrt, min_samples_split=10, min_samples_leaf=1, max_depth=110 \n",
      "[CV]  bootstrap=True, n_estimators=133, max_features=sqrt, min_samples_split=10, min_samples_leaf=1, max_depth=110, total=   1.3s\n",
      "[CV] bootstrap=True, n_estimators=133, max_features=sqrt, min_samples_split=10, min_samples_leaf=1, max_depth=110 \n",
      "[CV]  bootstrap=True, n_estimators=133, max_features=sqrt, min_samples_split=10, min_samples_leaf=1, max_depth=110, total=   1.1s\n",
      "[CV] bootstrap=True, n_estimators=133, max_features=sqrt, min_samples_split=10, min_samples_leaf=1, max_depth=110 \n",
      "[CV]  bootstrap=True, n_estimators=133, max_features=sqrt, min_samples_split=10, min_samples_leaf=1, max_depth=110, total=   1.1s\n",
      "[CV] bootstrap=True, n_estimators=23, max_features=sqrt, min_samples_split=2, min_samples_leaf=1, max_depth=110 \n",
      "[CV]  bootstrap=True, n_estimators=23, max_features=sqrt, min_samples_split=2, min_samples_leaf=1, max_depth=110, total=   0.2s\n",
      "[CV] bootstrap=True, n_estimators=23, max_features=sqrt, min_samples_split=2, min_samples_leaf=1, max_depth=110 \n",
      "[CV]  bootstrap=True, n_estimators=23, max_features=sqrt, min_samples_split=2, min_samples_leaf=1, max_depth=110, total=   0.1s\n",
      "[CV] bootstrap=True, n_estimators=23, max_features=sqrt, min_samples_split=2, min_samples_leaf=1, max_depth=110 \n",
      "[CV]  bootstrap=True, n_estimators=23, max_features=sqrt, min_samples_split=2, min_samples_leaf=1, max_depth=110, total=   0.2s\n",
      "[CV] bootstrap=False, n_estimators=89, max_features=sqrt, min_samples_split=2, min_samples_leaf=4, max_depth=20 \n",
      "[CV]  bootstrap=False, n_estimators=89, max_features=sqrt, min_samples_split=2, min_samples_leaf=4, max_depth=20, total=   1.1s\n",
      "[CV] bootstrap=False, n_estimators=89, max_features=sqrt, min_samples_split=2, min_samples_leaf=4, max_depth=20 \n",
      "[CV]  bootstrap=False, n_estimators=89, max_features=sqrt, min_samples_split=2, min_samples_leaf=4, max_depth=20, total=   1.1s\n",
      "[CV] bootstrap=False, n_estimators=89, max_features=sqrt, min_samples_split=2, min_samples_leaf=4, max_depth=20 \n",
      "[CV]  bootstrap=False, n_estimators=89, max_features=sqrt, min_samples_split=2, min_samples_leaf=4, max_depth=20, total=   1.0s\n",
      "[CV] bootstrap=False, n_estimators=111, max_features=sqrt, min_samples_split=2, min_samples_leaf=4, max_depth=30 \n",
      "[CV]  bootstrap=False, n_estimators=111, max_features=sqrt, min_samples_split=2, min_samples_leaf=4, max_depth=30, total=   1.5s\n",
      "[CV] bootstrap=False, n_estimators=111, max_features=sqrt, min_samples_split=2, min_samples_leaf=4, max_depth=30 \n",
      "[CV]  bootstrap=False, n_estimators=111, max_features=sqrt, min_samples_split=2, min_samples_leaf=4, max_depth=30, total=   1.3s\n",
      "[CV] bootstrap=False, n_estimators=111, max_features=sqrt, min_samples_split=2, min_samples_leaf=4, max_depth=30 \n",
      "[CV]  bootstrap=False, n_estimators=111, max_features=sqrt, min_samples_split=2, min_samples_leaf=4, max_depth=30, total=   1.5s\n",
      "[CV] bootstrap=False, n_estimators=155, max_features=auto, min_samples_split=5, min_samples_leaf=4, max_depth=100 \n",
      "[CV]  bootstrap=False, n_estimators=155, max_features=auto, min_samples_split=5, min_samples_leaf=4, max_depth=100, total=   2.2s\n",
      "[CV] bootstrap=False, n_estimators=155, max_features=auto, min_samples_split=5, min_samples_leaf=4, max_depth=100 \n",
      "[CV]  bootstrap=False, n_estimators=155, max_features=auto, min_samples_split=5, min_samples_leaf=4, max_depth=100, total=   1.9s\n",
      "[CV] bootstrap=False, n_estimators=155, max_features=auto, min_samples_split=5, min_samples_leaf=4, max_depth=100 \n",
      "[CV]  bootstrap=False, n_estimators=155, max_features=auto, min_samples_split=5, min_samples_leaf=4, max_depth=100, total=   2.1s\n",
      "[CV] bootstrap=False, n_estimators=1, max_features=auto, min_samples_split=5, min_samples_leaf=1, max_depth=60 \n",
      "[CV]  bootstrap=False, n_estimators=1, max_features=auto, min_samples_split=5, min_samples_leaf=1, max_depth=60, total=   0.0s\n",
      "[CV] bootstrap=False, n_estimators=1, max_features=auto, min_samples_split=5, min_samples_leaf=1, max_depth=60 \n",
      "[CV]  bootstrap=False, n_estimators=1, max_features=auto, min_samples_split=5, min_samples_leaf=1, max_depth=60, total=   0.0s\n",
      "[CV] bootstrap=False, n_estimators=1, max_features=auto, min_samples_split=5, min_samples_leaf=1, max_depth=60 \n",
      "[CV]  bootstrap=False, n_estimators=1, max_features=auto, min_samples_split=5, min_samples_leaf=1, max_depth=60, total=   0.0s\n",
      "[CV] bootstrap=True, n_estimators=89, max_features=sqrt, min_samples_split=2, min_samples_leaf=2, max_depth=90 \n",
      "[CV]  bootstrap=True, n_estimators=89, max_features=sqrt, min_samples_split=2, min_samples_leaf=2, max_depth=90, total=   0.8s\n",
      "[CV] bootstrap=True, n_estimators=89, max_features=sqrt, min_samples_split=2, min_samples_leaf=2, max_depth=90 \n",
      "[CV]  bootstrap=True, n_estimators=89, max_features=sqrt, min_samples_split=2, min_samples_leaf=2, max_depth=90, total=   0.7s\n",
      "[CV] bootstrap=True, n_estimators=89, max_features=sqrt, min_samples_split=2, min_samples_leaf=2, max_depth=90 \n",
      "[CV]  bootstrap=True, n_estimators=89, max_features=sqrt, min_samples_split=2, min_samples_leaf=2, max_depth=90, total=   0.7s\n",
      "[CV] bootstrap=True, n_estimators=45, max_features=auto, min_samples_split=5, min_samples_leaf=2, max_depth=20 \n",
      "[CV]  bootstrap=True, n_estimators=45, max_features=auto, min_samples_split=5, min_samples_leaf=2, max_depth=20, total=   0.3s\n",
      "[CV] bootstrap=True, n_estimators=45, max_features=auto, min_samples_split=5, min_samples_leaf=2, max_depth=20 \n",
      "[CV]  bootstrap=True, n_estimators=45, max_features=auto, min_samples_split=5, min_samples_leaf=2, max_depth=20, total=   0.4s\n",
      "[CV] bootstrap=True, n_estimators=45, max_features=auto, min_samples_split=5, min_samples_leaf=2, max_depth=20 \n",
      "[CV]  bootstrap=True, n_estimators=45, max_features=auto, min_samples_split=5, min_samples_leaf=2, max_depth=20, total=   0.5s\n",
      "[CV] bootstrap=False, n_estimators=1, max_features=sqrt, min_samples_split=2, min_samples_leaf=4, max_depth=110 \n",
      "[CV]  bootstrap=False, n_estimators=1, max_features=sqrt, min_samples_split=2, min_samples_leaf=4, max_depth=110, total=   0.0s\n",
      "[CV] bootstrap=False, n_estimators=1, max_features=sqrt, min_samples_split=2, min_samples_leaf=4, max_depth=110 \n",
      "[CV]  bootstrap=False, n_estimators=1, max_features=sqrt, min_samples_split=2, min_samples_leaf=4, max_depth=110, total=   0.0s\n",
      "[CV] bootstrap=False, n_estimators=1, max_features=sqrt, min_samples_split=2, min_samples_leaf=4, max_depth=110 \n"
     ]
    },
    {
     "name": "stdout",
     "output_type": "stream",
     "text": [
      "[CV]  bootstrap=False, n_estimators=1, max_features=sqrt, min_samples_split=2, min_samples_leaf=4, max_depth=110, total=   0.0s\n",
      "[CV] bootstrap=True, n_estimators=133, max_features=sqrt, min_samples_split=2, min_samples_leaf=2, max_depth=None \n",
      "[CV]  bootstrap=True, n_estimators=133, max_features=sqrt, min_samples_split=2, min_samples_leaf=2, max_depth=None, total=   1.1s\n",
      "[CV] bootstrap=True, n_estimators=133, max_features=sqrt, min_samples_split=2, min_samples_leaf=2, max_depth=None \n",
      "[CV]  bootstrap=True, n_estimators=133, max_features=sqrt, min_samples_split=2, min_samples_leaf=2, max_depth=None, total=   1.2s\n",
      "[CV] bootstrap=True, n_estimators=133, max_features=sqrt, min_samples_split=2, min_samples_leaf=2, max_depth=None \n",
      "[CV]  bootstrap=True, n_estimators=133, max_features=sqrt, min_samples_split=2, min_samples_leaf=2, max_depth=None, total=   1.1s\n",
      "[CV] bootstrap=False, n_estimators=177, max_features=sqrt, min_samples_split=5, min_samples_leaf=4, max_depth=70 \n",
      "[CV]  bootstrap=False, n_estimators=177, max_features=sqrt, min_samples_split=5, min_samples_leaf=4, max_depth=70, total=   2.6s\n",
      "[CV] bootstrap=False, n_estimators=177, max_features=sqrt, min_samples_split=5, min_samples_leaf=4, max_depth=70 \n",
      "[CV]  bootstrap=False, n_estimators=177, max_features=sqrt, min_samples_split=5, min_samples_leaf=4, max_depth=70, total=   2.3s\n",
      "[CV] bootstrap=False, n_estimators=177, max_features=sqrt, min_samples_split=5, min_samples_leaf=4, max_depth=70 \n",
      "[CV]  bootstrap=False, n_estimators=177, max_features=sqrt, min_samples_split=5, min_samples_leaf=4, max_depth=70, total=   2.3s\n",
      "[CV] bootstrap=False, n_estimators=133, max_features=sqrt, min_samples_split=10, min_samples_leaf=4, max_depth=90 \n",
      "[CV]  bootstrap=False, n_estimators=133, max_features=sqrt, min_samples_split=10, min_samples_leaf=4, max_depth=90, total=   1.7s\n",
      "[CV] bootstrap=False, n_estimators=133, max_features=sqrt, min_samples_split=10, min_samples_leaf=4, max_depth=90 \n",
      "[CV]  bootstrap=False, n_estimators=133, max_features=sqrt, min_samples_split=10, min_samples_leaf=4, max_depth=90, total=   1.7s\n",
      "[CV] bootstrap=False, n_estimators=133, max_features=sqrt, min_samples_split=10, min_samples_leaf=4, max_depth=90 \n",
      "[CV]  bootstrap=False, n_estimators=133, max_features=sqrt, min_samples_split=10, min_samples_leaf=4, max_depth=90, total=   1.5s\n",
      "[CV] bootstrap=False, n_estimators=155, max_features=auto, min_samples_split=5, min_samples_leaf=4, max_depth=70 \n",
      "[CV]  bootstrap=False, n_estimators=155, max_features=auto, min_samples_split=5, min_samples_leaf=4, max_depth=70, total=   2.1s\n",
      "[CV] bootstrap=False, n_estimators=155, max_features=auto, min_samples_split=5, min_samples_leaf=4, max_depth=70 \n",
      "[CV]  bootstrap=False, n_estimators=155, max_features=auto, min_samples_split=5, min_samples_leaf=4, max_depth=70, total=   1.9s\n",
      "[CV] bootstrap=False, n_estimators=155, max_features=auto, min_samples_split=5, min_samples_leaf=4, max_depth=70 \n",
      "[CV]  bootstrap=False, n_estimators=155, max_features=auto, min_samples_split=5, min_samples_leaf=4, max_depth=70, total=   1.8s\n",
      "[CV] bootstrap=False, n_estimators=111, max_features=sqrt, min_samples_split=2, min_samples_leaf=2, max_depth=30 \n",
      "[CV]  bootstrap=False, n_estimators=111, max_features=sqrt, min_samples_split=2, min_samples_leaf=2, max_depth=30, total=   1.6s\n",
      "[CV] bootstrap=False, n_estimators=111, max_features=sqrt, min_samples_split=2, min_samples_leaf=2, max_depth=30 \n",
      "[CV]  bootstrap=False, n_estimators=111, max_features=sqrt, min_samples_split=2, min_samples_leaf=2, max_depth=30, total=   1.5s\n",
      "[CV] bootstrap=False, n_estimators=111, max_features=sqrt, min_samples_split=2, min_samples_leaf=2, max_depth=30 \n",
      "[CV]  bootstrap=False, n_estimators=111, max_features=sqrt, min_samples_split=2, min_samples_leaf=2, max_depth=30, total=   1.3s\n",
      "[CV] bootstrap=True, n_estimators=89, max_features=sqrt, min_samples_split=5, min_samples_leaf=1, max_depth=80 \n",
      "[CV]  bootstrap=True, n_estimators=89, max_features=sqrt, min_samples_split=5, min_samples_leaf=1, max_depth=80, total=   0.7s\n",
      "[CV] bootstrap=True, n_estimators=89, max_features=sqrt, min_samples_split=5, min_samples_leaf=1, max_depth=80 \n",
      "[CV]  bootstrap=True, n_estimators=89, max_features=sqrt, min_samples_split=5, min_samples_leaf=1, max_depth=80, total=   1.0s\n",
      "[CV] bootstrap=True, n_estimators=89, max_features=sqrt, min_samples_split=5, min_samples_leaf=1, max_depth=80 \n",
      "[CV]  bootstrap=True, n_estimators=89, max_features=sqrt, min_samples_split=5, min_samples_leaf=1, max_depth=80, total=   0.7s\n",
      "[CV] bootstrap=True, n_estimators=200, max_features=sqrt, min_samples_split=5, min_samples_leaf=2, max_depth=80 \n",
      "[CV]  bootstrap=True, n_estimators=200, max_features=sqrt, min_samples_split=5, min_samples_leaf=2, max_depth=80, total=   1.8s\n",
      "[CV] bootstrap=True, n_estimators=200, max_features=sqrt, min_samples_split=5, min_samples_leaf=2, max_depth=80 \n",
      "[CV]  bootstrap=True, n_estimators=200, max_features=sqrt, min_samples_split=5, min_samples_leaf=2, max_depth=80, total=   1.6s\n",
      "[CV] bootstrap=True, n_estimators=200, max_features=sqrt, min_samples_split=5, min_samples_leaf=2, max_depth=80 \n",
      "[CV]  bootstrap=True, n_estimators=200, max_features=sqrt, min_samples_split=5, min_samples_leaf=2, max_depth=80, total=   1.9s\n",
      "[CV] bootstrap=True, n_estimators=133, max_features=sqrt, min_samples_split=2, min_samples_leaf=2, max_depth=110 \n",
      "[CV]  bootstrap=True, n_estimators=133, max_features=sqrt, min_samples_split=2, min_samples_leaf=2, max_depth=110, total=   1.2s\n",
      "[CV] bootstrap=True, n_estimators=133, max_features=sqrt, min_samples_split=2, min_samples_leaf=2, max_depth=110 \n",
      "[CV]  bootstrap=True, n_estimators=133, max_features=sqrt, min_samples_split=2, min_samples_leaf=2, max_depth=110, total=   1.1s\n",
      "[CV] bootstrap=True, n_estimators=133, max_features=sqrt, min_samples_split=2, min_samples_leaf=2, max_depth=110 \n",
      "[CV]  bootstrap=True, n_estimators=133, max_features=sqrt, min_samples_split=2, min_samples_leaf=2, max_depth=110, total=   1.1s\n",
      "[CV] bootstrap=True, n_estimators=177, max_features=sqrt, min_samples_split=5, min_samples_leaf=2, max_depth=80 \n",
      "[CV]  bootstrap=True, n_estimators=177, max_features=sqrt, min_samples_split=5, min_samples_leaf=2, max_depth=80, total=   1.7s\n",
      "[CV] bootstrap=True, n_estimators=177, max_features=sqrt, min_samples_split=5, min_samples_leaf=2, max_depth=80 \n",
      "[CV]  bootstrap=True, n_estimators=177, max_features=sqrt, min_samples_split=5, min_samples_leaf=2, max_depth=80, total=   1.6s\n",
      "[CV] bootstrap=True, n_estimators=177, max_features=sqrt, min_samples_split=5, min_samples_leaf=2, max_depth=80 \n",
      "[CV]  bootstrap=True, n_estimators=177, max_features=sqrt, min_samples_split=5, min_samples_leaf=2, max_depth=80, total=   1.4s\n",
      "[CV] bootstrap=True, n_estimators=1, max_features=auto, min_samples_split=5, min_samples_leaf=4, max_depth=40 \n",
      "[CV]  bootstrap=True, n_estimators=1, max_features=auto, min_samples_split=5, min_samples_leaf=4, max_depth=40, total=   0.0s\n",
      "[CV] bootstrap=True, n_estimators=1, max_features=auto, min_samples_split=5, min_samples_leaf=4, max_depth=40 \n",
      "[CV]  bootstrap=True, n_estimators=1, max_features=auto, min_samples_split=5, min_samples_leaf=4, max_depth=40, total=   0.0s\n",
      "[CV] bootstrap=True, n_estimators=1, max_features=auto, min_samples_split=5, min_samples_leaf=4, max_depth=40 \n",
      "[CV]  bootstrap=True, n_estimators=1, max_features=auto, min_samples_split=5, min_samples_leaf=4, max_depth=40, total=   0.0s\n",
      "[CV] bootstrap=False, n_estimators=89, max_features=auto, min_samples_split=10, min_samples_leaf=4, max_depth=80 \n",
      "[CV]  bootstrap=False, n_estimators=89, max_features=auto, min_samples_split=10, min_samples_leaf=4, max_depth=80, total=   1.2s\n",
      "[CV] bootstrap=False, n_estimators=89, max_features=auto, min_samples_split=10, min_samples_leaf=4, max_depth=80 \n",
      "[CV]  bootstrap=False, n_estimators=89, max_features=auto, min_samples_split=10, min_samples_leaf=4, max_depth=80, total=   1.1s\n",
      "[CV] bootstrap=False, n_estimators=89, max_features=auto, min_samples_split=10, min_samples_leaf=4, max_depth=80 \n",
      "[CV]  bootstrap=False, n_estimators=89, max_features=auto, min_samples_split=10, min_samples_leaf=4, max_depth=80, total=   1.1s\n",
      "[CV] bootstrap=True, n_estimators=177, max_features=auto, min_samples_split=2, min_samples_leaf=4, max_depth=80 \n"
     ]
    },
    {
     "name": "stdout",
     "output_type": "stream",
     "text": [
      "[CV]  bootstrap=True, n_estimators=177, max_features=auto, min_samples_split=2, min_samples_leaf=4, max_depth=80, total=   1.5s\n",
      "[CV] bootstrap=True, n_estimators=177, max_features=auto, min_samples_split=2, min_samples_leaf=4, max_depth=80 \n",
      "[CV]  bootstrap=True, n_estimators=177, max_features=auto, min_samples_split=2, min_samples_leaf=4, max_depth=80, total=   1.4s\n",
      "[CV] bootstrap=True, n_estimators=177, max_features=auto, min_samples_split=2, min_samples_leaf=4, max_depth=80 \n",
      "[CV]  bootstrap=True, n_estimators=177, max_features=auto, min_samples_split=2, min_samples_leaf=4, max_depth=80, total=   1.5s\n",
      "[CV] bootstrap=True, n_estimators=200, max_features=sqrt, min_samples_split=5, min_samples_leaf=2, max_depth=110 \n",
      "[CV]  bootstrap=True, n_estimators=200, max_features=sqrt, min_samples_split=5, min_samples_leaf=2, max_depth=110, total=   1.8s\n",
      "[CV] bootstrap=True, n_estimators=200, max_features=sqrt, min_samples_split=5, min_samples_leaf=2, max_depth=110 \n",
      "[CV]  bootstrap=True, n_estimators=200, max_features=sqrt, min_samples_split=5, min_samples_leaf=2, max_depth=110, total=   1.6s\n",
      "[CV] bootstrap=True, n_estimators=200, max_features=sqrt, min_samples_split=5, min_samples_leaf=2, max_depth=110 \n",
      "[CV]  bootstrap=True, n_estimators=200, max_features=sqrt, min_samples_split=5, min_samples_leaf=2, max_depth=110, total=   1.9s\n",
      "[CV] bootstrap=True, n_estimators=200, max_features=sqrt, min_samples_split=10, min_samples_leaf=4, max_depth=20 \n",
      "[CV]  bootstrap=True, n_estimators=200, max_features=sqrt, min_samples_split=10, min_samples_leaf=4, max_depth=20, total=   1.6s\n",
      "[CV] bootstrap=True, n_estimators=200, max_features=sqrt, min_samples_split=10, min_samples_leaf=4, max_depth=20 \n",
      "[CV]  bootstrap=True, n_estimators=200, max_features=sqrt, min_samples_split=10, min_samples_leaf=4, max_depth=20, total=   1.5s\n",
      "[CV] bootstrap=True, n_estimators=200, max_features=sqrt, min_samples_split=10, min_samples_leaf=4, max_depth=20 \n",
      "[CV]  bootstrap=True, n_estimators=200, max_features=sqrt, min_samples_split=10, min_samples_leaf=4, max_depth=20, total=   1.7s\n",
      "[CV] bootstrap=False, n_estimators=155, max_features=sqrt, min_samples_split=5, min_samples_leaf=2, max_depth=40 \n",
      "[CV]  bootstrap=False, n_estimators=155, max_features=sqrt, min_samples_split=5, min_samples_leaf=2, max_depth=40, total=   2.1s\n",
      "[CV] bootstrap=False, n_estimators=155, max_features=sqrt, min_samples_split=5, min_samples_leaf=2, max_depth=40 \n",
      "[CV]  bootstrap=False, n_estimators=155, max_features=sqrt, min_samples_split=5, min_samples_leaf=2, max_depth=40, total=   2.1s\n",
      "[CV] bootstrap=False, n_estimators=155, max_features=sqrt, min_samples_split=5, min_samples_leaf=2, max_depth=40 \n",
      "[CV]  bootstrap=False, n_estimators=155, max_features=sqrt, min_samples_split=5, min_samples_leaf=2, max_depth=40, total=   2.3s\n",
      "[CV] bootstrap=False, n_estimators=67, max_features=sqrt, min_samples_split=2, min_samples_leaf=4, max_depth=30 \n",
      "[CV]  bootstrap=False, n_estimators=67, max_features=sqrt, min_samples_split=2, min_samples_leaf=4, max_depth=30, total=   0.8s\n",
      "[CV] bootstrap=False, n_estimators=67, max_features=sqrt, min_samples_split=2, min_samples_leaf=4, max_depth=30 \n",
      "[CV]  bootstrap=False, n_estimators=67, max_features=sqrt, min_samples_split=2, min_samples_leaf=4, max_depth=30, total=   0.8s\n",
      "[CV] bootstrap=False, n_estimators=67, max_features=sqrt, min_samples_split=2, min_samples_leaf=4, max_depth=30 \n",
      "[CV]  bootstrap=False, n_estimators=67, max_features=sqrt, min_samples_split=2, min_samples_leaf=4, max_depth=30, total=   0.8s\n",
      "[CV] bootstrap=True, n_estimators=155, max_features=auto, min_samples_split=10, min_samples_leaf=2, max_depth=None \n",
      "[CV]  bootstrap=True, n_estimators=155, max_features=auto, min_samples_split=10, min_samples_leaf=2, max_depth=None, total=   1.6s\n",
      "[CV] bootstrap=True, n_estimators=155, max_features=auto, min_samples_split=10, min_samples_leaf=2, max_depth=None \n",
      "[CV]  bootstrap=True, n_estimators=155, max_features=auto, min_samples_split=10, min_samples_leaf=2, max_depth=None, total=   1.3s\n",
      "[CV] bootstrap=True, n_estimators=155, max_features=auto, min_samples_split=10, min_samples_leaf=2, max_depth=None \n",
      "[CV]  bootstrap=True, n_estimators=155, max_features=auto, min_samples_split=10, min_samples_leaf=2, max_depth=None, total=   1.4s\n",
      "[CV] bootstrap=True, n_estimators=89, max_features=auto, min_samples_split=5, min_samples_leaf=2, max_depth=10 \n",
      "[CV]  bootstrap=True, n_estimators=89, max_features=auto, min_samples_split=5, min_samples_leaf=2, max_depth=10, total=   0.5s\n",
      "[CV] bootstrap=True, n_estimators=89, max_features=auto, min_samples_split=5, min_samples_leaf=2, max_depth=10 \n",
      "[CV]  bootstrap=True, n_estimators=89, max_features=auto, min_samples_split=5, min_samples_leaf=2, max_depth=10, total=   0.5s\n",
      "[CV] bootstrap=True, n_estimators=89, max_features=auto, min_samples_split=5, min_samples_leaf=2, max_depth=10 \n",
      "[CV]  bootstrap=True, n_estimators=89, max_features=auto, min_samples_split=5, min_samples_leaf=2, max_depth=10, total=   0.5s\n",
      "[CV] bootstrap=True, n_estimators=155, max_features=sqrt, min_samples_split=5, min_samples_leaf=2, max_depth=None \n",
      "[CV]  bootstrap=True, n_estimators=155, max_features=sqrt, min_samples_split=5, min_samples_leaf=2, max_depth=None, total=   1.5s\n",
      "[CV] bootstrap=True, n_estimators=155, max_features=sqrt, min_samples_split=5, min_samples_leaf=2, max_depth=None \n",
      "[CV]  bootstrap=True, n_estimators=155, max_features=sqrt, min_samples_split=5, min_samples_leaf=2, max_depth=None, total=   1.3s\n",
      "[CV] bootstrap=True, n_estimators=155, max_features=sqrt, min_samples_split=5, min_samples_leaf=2, max_depth=None \n",
      "[CV]  bootstrap=True, n_estimators=155, max_features=sqrt, min_samples_split=5, min_samples_leaf=2, max_depth=None, total=   1.3s\n",
      "[CV] bootstrap=False, n_estimators=45, max_features=sqrt, min_samples_split=10, min_samples_leaf=2, max_depth=60 \n",
      "[CV]  bootstrap=False, n_estimators=45, max_features=sqrt, min_samples_split=10, min_samples_leaf=2, max_depth=60, total=   0.6s\n",
      "[CV] bootstrap=False, n_estimators=45, max_features=sqrt, min_samples_split=10, min_samples_leaf=2, max_depth=60 \n",
      "[CV]  bootstrap=False, n_estimators=45, max_features=sqrt, min_samples_split=10, min_samples_leaf=2, max_depth=60, total=   0.5s\n",
      "[CV] bootstrap=False, n_estimators=45, max_features=sqrt, min_samples_split=10, min_samples_leaf=2, max_depth=60 \n",
      "[CV]  bootstrap=False, n_estimators=45, max_features=sqrt, min_samples_split=10, min_samples_leaf=2, max_depth=60, total=   0.7s\n",
      "[CV] bootstrap=False, n_estimators=133, max_features=auto, min_samples_split=2, min_samples_leaf=1, max_depth=50 \n",
      "[CV]  bootstrap=False, n_estimators=133, max_features=auto, min_samples_split=2, min_samples_leaf=1, max_depth=50, total=   1.9s\n",
      "[CV] bootstrap=False, n_estimators=133, max_features=auto, min_samples_split=2, min_samples_leaf=1, max_depth=50 \n",
      "[CV]  bootstrap=False, n_estimators=133, max_features=auto, min_samples_split=2, min_samples_leaf=1, max_depth=50, total=   1.9s\n",
      "[CV] bootstrap=False, n_estimators=133, max_features=auto, min_samples_split=2, min_samples_leaf=1, max_depth=50 \n",
      "[CV]  bootstrap=False, n_estimators=133, max_features=auto, min_samples_split=2, min_samples_leaf=1, max_depth=50, total=   2.0s\n",
      "[CV] bootstrap=True, n_estimators=111, max_features=auto, min_samples_split=10, min_samples_leaf=1, max_depth=110 \n",
      "[CV]  bootstrap=True, n_estimators=111, max_features=auto, min_samples_split=10, min_samples_leaf=1, max_depth=110, total=   0.9s\n",
      "[CV] bootstrap=True, n_estimators=111, max_features=auto, min_samples_split=10, min_samples_leaf=1, max_depth=110 \n",
      "[CV]  bootstrap=True, n_estimators=111, max_features=auto, min_samples_split=10, min_samples_leaf=1, max_depth=110, total=   0.9s\n",
      "[CV] bootstrap=True, n_estimators=111, max_features=auto, min_samples_split=10, min_samples_leaf=1, max_depth=110 \n",
      "[CV]  bootstrap=True, n_estimators=111, max_features=auto, min_samples_split=10, min_samples_leaf=1, max_depth=110, total=   1.0s\n",
      "[CV] bootstrap=False, n_estimators=200, max_features=auto, min_samples_split=5, min_samples_leaf=4, max_depth=50 \n",
      "[CV]  bootstrap=False, n_estimators=200, max_features=auto, min_samples_split=5, min_samples_leaf=4, max_depth=50, total=   2.6s\n",
      "[CV] bootstrap=False, n_estimators=200, max_features=auto, min_samples_split=5, min_samples_leaf=4, max_depth=50 \n"
     ]
    },
    {
     "name": "stdout",
     "output_type": "stream",
     "text": [
      "[CV]  bootstrap=False, n_estimators=200, max_features=auto, min_samples_split=5, min_samples_leaf=4, max_depth=50, total=   2.6s\n",
      "[CV] bootstrap=False, n_estimators=200, max_features=auto, min_samples_split=5, min_samples_leaf=4, max_depth=50 \n",
      "[CV]  bootstrap=False, n_estimators=200, max_features=auto, min_samples_split=5, min_samples_leaf=4, max_depth=50, total=   2.4s\n",
      "[CV] bootstrap=False, n_estimators=200, max_features=sqrt, min_samples_split=10, min_samples_leaf=4, max_depth=110 \n",
      "[CV]  bootstrap=False, n_estimators=200, max_features=sqrt, min_samples_split=10, min_samples_leaf=4, max_depth=110, total=   2.9s\n",
      "[CV] bootstrap=False, n_estimators=200, max_features=sqrt, min_samples_split=10, min_samples_leaf=4, max_depth=110 \n",
      "[CV]  bootstrap=False, n_estimators=200, max_features=sqrt, min_samples_split=10, min_samples_leaf=4, max_depth=110, total=   2.3s\n",
      "[CV] bootstrap=False, n_estimators=200, max_features=sqrt, min_samples_split=10, min_samples_leaf=4, max_depth=110 \n",
      "[CV]  bootstrap=False, n_estimators=200, max_features=sqrt, min_samples_split=10, min_samples_leaf=4, max_depth=110, total=   2.6s\n",
      "[CV] bootstrap=False, n_estimators=177, max_features=sqrt, min_samples_split=5, min_samples_leaf=4, max_depth=100 \n",
      "[CV]  bootstrap=False, n_estimators=177, max_features=sqrt, min_samples_split=5, min_samples_leaf=4, max_depth=100, total=   2.3s\n",
      "[CV] bootstrap=False, n_estimators=177, max_features=sqrt, min_samples_split=5, min_samples_leaf=4, max_depth=100 \n",
      "[CV]  bootstrap=False, n_estimators=177, max_features=sqrt, min_samples_split=5, min_samples_leaf=4, max_depth=100, total=   2.4s\n",
      "[CV] bootstrap=False, n_estimators=177, max_features=sqrt, min_samples_split=5, min_samples_leaf=4, max_depth=100 \n",
      "[CV]  bootstrap=False, n_estimators=177, max_features=sqrt, min_samples_split=5, min_samples_leaf=4, max_depth=100, total=   2.5s\n",
      "[CV] bootstrap=False, n_estimators=23, max_features=sqrt, min_samples_split=10, min_samples_leaf=4, max_depth=70 \n",
      "[CV]  bootstrap=False, n_estimators=23, max_features=sqrt, min_samples_split=10, min_samples_leaf=4, max_depth=70, total=   0.2s\n",
      "[CV] bootstrap=False, n_estimators=23, max_features=sqrt, min_samples_split=10, min_samples_leaf=4, max_depth=70 \n",
      "[CV]  bootstrap=False, n_estimators=23, max_features=sqrt, min_samples_split=10, min_samples_leaf=4, max_depth=70, total=   0.2s\n",
      "[CV] bootstrap=False, n_estimators=23, max_features=sqrt, min_samples_split=10, min_samples_leaf=4, max_depth=70 \n",
      "[CV]  bootstrap=False, n_estimators=23, max_features=sqrt, min_samples_split=10, min_samples_leaf=4, max_depth=70, total=   0.2s\n",
      "[CV] bootstrap=True, n_estimators=67, max_features=sqrt, min_samples_split=2, min_samples_leaf=1, max_depth=30 \n",
      "[CV]  bootstrap=True, n_estimators=67, max_features=sqrt, min_samples_split=2, min_samples_leaf=1, max_depth=30, total=   0.6s\n",
      "[CV] bootstrap=True, n_estimators=67, max_features=sqrt, min_samples_split=2, min_samples_leaf=1, max_depth=30 \n",
      "[CV]  bootstrap=True, n_estimators=67, max_features=sqrt, min_samples_split=2, min_samples_leaf=1, max_depth=30, total=   0.6s\n",
      "[CV] bootstrap=True, n_estimators=67, max_features=sqrt, min_samples_split=2, min_samples_leaf=1, max_depth=30 \n",
      "[CV]  bootstrap=True, n_estimators=67, max_features=sqrt, min_samples_split=2, min_samples_leaf=1, max_depth=30, total=   0.5s\n",
      "[CV] bootstrap=True, n_estimators=111, max_features=sqrt, min_samples_split=2, min_samples_leaf=4, max_depth=70 \n",
      "[CV]  bootstrap=True, n_estimators=111, max_features=sqrt, min_samples_split=2, min_samples_leaf=4, max_depth=70, total=   0.8s\n",
      "[CV] bootstrap=True, n_estimators=111, max_features=sqrt, min_samples_split=2, min_samples_leaf=4, max_depth=70 \n",
      "[CV]  bootstrap=True, n_estimators=111, max_features=sqrt, min_samples_split=2, min_samples_leaf=4, max_depth=70, total=   1.0s\n",
      "[CV] bootstrap=True, n_estimators=111, max_features=sqrt, min_samples_split=2, min_samples_leaf=4, max_depth=70 \n",
      "[CV]  bootstrap=True, n_estimators=111, max_features=sqrt, min_samples_split=2, min_samples_leaf=4, max_depth=70, total=   0.9s\n",
      "[CV] bootstrap=True, n_estimators=133, max_features=sqrt, min_samples_split=2, min_samples_leaf=2, max_depth=30 \n",
      "[CV]  bootstrap=True, n_estimators=133, max_features=sqrt, min_samples_split=2, min_samples_leaf=2, max_depth=30, total=   1.1s\n",
      "[CV] bootstrap=True, n_estimators=133, max_features=sqrt, min_samples_split=2, min_samples_leaf=2, max_depth=30 \n",
      "[CV]  bootstrap=True, n_estimators=133, max_features=sqrt, min_samples_split=2, min_samples_leaf=2, max_depth=30, total=   1.1s\n",
      "[CV] bootstrap=True, n_estimators=133, max_features=sqrt, min_samples_split=2, min_samples_leaf=2, max_depth=30 \n",
      "[CV]  bootstrap=True, n_estimators=133, max_features=sqrt, min_samples_split=2, min_samples_leaf=2, max_depth=30, total=   1.1s\n",
      "[CV] bootstrap=False, n_estimators=45, max_features=auto, min_samples_split=10, min_samples_leaf=1, max_depth=10 \n",
      "[CV]  bootstrap=False, n_estimators=45, max_features=auto, min_samples_split=10, min_samples_leaf=1, max_depth=10, total=   0.4s\n",
      "[CV] bootstrap=False, n_estimators=45, max_features=auto, min_samples_split=10, min_samples_leaf=1, max_depth=10 \n",
      "[CV]  bootstrap=False, n_estimators=45, max_features=auto, min_samples_split=10, min_samples_leaf=1, max_depth=10, total=   0.5s\n",
      "[CV] bootstrap=False, n_estimators=45, max_features=auto, min_samples_split=10, min_samples_leaf=1, max_depth=10 \n",
      "[CV]  bootstrap=False, n_estimators=45, max_features=auto, min_samples_split=10, min_samples_leaf=1, max_depth=10, total=   0.4s\n",
      "[CV] bootstrap=False, n_estimators=67, max_features=auto, min_samples_split=10, min_samples_leaf=1, max_depth=10 \n",
      "[CV]  bootstrap=False, n_estimators=67, max_features=auto, min_samples_split=10, min_samples_leaf=1, max_depth=10, total=   0.6s\n",
      "[CV] bootstrap=False, n_estimators=67, max_features=auto, min_samples_split=10, min_samples_leaf=1, max_depth=10 \n",
      "[CV]  bootstrap=False, n_estimators=67, max_features=auto, min_samples_split=10, min_samples_leaf=1, max_depth=10, total=   0.6s\n",
      "[CV] bootstrap=False, n_estimators=67, max_features=auto, min_samples_split=10, min_samples_leaf=1, max_depth=10 \n",
      "[CV]  bootstrap=False, n_estimators=67, max_features=auto, min_samples_split=10, min_samples_leaf=1, max_depth=10, total=   0.6s\n",
      "[CV] bootstrap=True, n_estimators=45, max_features=auto, min_samples_split=2, min_samples_leaf=4, max_depth=10 \n",
      "[CV]  bootstrap=True, n_estimators=45, max_features=auto, min_samples_split=2, min_samples_leaf=4, max_depth=10, total=   0.3s\n",
      "[CV] bootstrap=True, n_estimators=45, max_features=auto, min_samples_split=2, min_samples_leaf=4, max_depth=10 \n",
      "[CV]  bootstrap=True, n_estimators=45, max_features=auto, min_samples_split=2, min_samples_leaf=4, max_depth=10, total=   0.2s\n",
      "[CV] bootstrap=True, n_estimators=45, max_features=auto, min_samples_split=2, min_samples_leaf=4, max_depth=10 \n",
      "[CV]  bootstrap=True, n_estimators=45, max_features=auto, min_samples_split=2, min_samples_leaf=4, max_depth=10, total=   0.2s\n",
      "[CV] bootstrap=True, n_estimators=111, max_features=sqrt, min_samples_split=10, min_samples_leaf=4, max_depth=50 \n",
      "[CV]  bootstrap=True, n_estimators=111, max_features=sqrt, min_samples_split=10, min_samples_leaf=4, max_depth=50, total=   0.8s\n",
      "[CV] bootstrap=True, n_estimators=111, max_features=sqrt, min_samples_split=10, min_samples_leaf=4, max_depth=50 \n",
      "[CV]  bootstrap=True, n_estimators=111, max_features=sqrt, min_samples_split=10, min_samples_leaf=4, max_depth=50, total=   1.0s\n",
      "[CV] bootstrap=True, n_estimators=111, max_features=sqrt, min_samples_split=10, min_samples_leaf=4, max_depth=50 \n",
      "[CV]  bootstrap=True, n_estimators=111, max_features=sqrt, min_samples_split=10, min_samples_leaf=4, max_depth=50, total=   1.0s\n",
      "[CV] bootstrap=False, n_estimators=67, max_features=sqrt, min_samples_split=2, min_samples_leaf=2, max_depth=60 \n",
      "[CV]  bootstrap=False, n_estimators=67, max_features=sqrt, min_samples_split=2, min_samples_leaf=2, max_depth=60, total=   1.0s\n",
      "[CV] bootstrap=False, n_estimators=67, max_features=sqrt, min_samples_split=2, min_samples_leaf=2, max_depth=60 \n",
      "[CV]  bootstrap=False, n_estimators=67, max_features=sqrt, min_samples_split=2, min_samples_leaf=2, max_depth=60, total=   1.0s\n",
      "[CV] bootstrap=False, n_estimators=67, max_features=sqrt, min_samples_split=2, min_samples_leaf=2, max_depth=60 \n"
     ]
    },
    {
     "name": "stdout",
     "output_type": "stream",
     "text": [
      "[CV]  bootstrap=False, n_estimators=67, max_features=sqrt, min_samples_split=2, min_samples_leaf=2, max_depth=60, total=   1.1s\n",
      "[CV] bootstrap=False, n_estimators=177, max_features=auto, min_samples_split=2, min_samples_leaf=2, max_depth=40 \n",
      "[CV]  bootstrap=False, n_estimators=177, max_features=auto, min_samples_split=2, min_samples_leaf=2, max_depth=40, total=   3.7s\n",
      "[CV] bootstrap=False, n_estimators=177, max_features=auto, min_samples_split=2, min_samples_leaf=2, max_depth=40 \n",
      "[CV]  bootstrap=False, n_estimators=177, max_features=auto, min_samples_split=2, min_samples_leaf=2, max_depth=40, total=   3.7s\n",
      "[CV] bootstrap=False, n_estimators=177, max_features=auto, min_samples_split=2, min_samples_leaf=2, max_depth=40 \n",
      "[CV]  bootstrap=False, n_estimators=177, max_features=auto, min_samples_split=2, min_samples_leaf=2, max_depth=40, total=   2.6s\n",
      "[CV] bootstrap=False, n_estimators=89, max_features=sqrt, min_samples_split=10, min_samples_leaf=2, max_depth=70 \n",
      "[CV]  bootstrap=False, n_estimators=89, max_features=sqrt, min_samples_split=10, min_samples_leaf=2, max_depth=70, total=   1.4s\n",
      "[CV] bootstrap=False, n_estimators=89, max_features=sqrt, min_samples_split=10, min_samples_leaf=2, max_depth=70 \n",
      "[CV]  bootstrap=False, n_estimators=89, max_features=sqrt, min_samples_split=10, min_samples_leaf=2, max_depth=70, total=   1.4s\n",
      "[CV] bootstrap=False, n_estimators=89, max_features=sqrt, min_samples_split=10, min_samples_leaf=2, max_depth=70 \n",
      "[CV]  bootstrap=False, n_estimators=89, max_features=sqrt, min_samples_split=10, min_samples_leaf=2, max_depth=70, total=   1.1s\n",
      "[CV] bootstrap=True, n_estimators=111, max_features=sqrt, min_samples_split=10, min_samples_leaf=1, max_depth=None \n",
      "[CV]  bootstrap=True, n_estimators=111, max_features=sqrt, min_samples_split=10, min_samples_leaf=1, max_depth=None, total=   1.1s\n",
      "[CV] bootstrap=True, n_estimators=111, max_features=sqrt, min_samples_split=10, min_samples_leaf=1, max_depth=None \n",
      "[CV]  bootstrap=True, n_estimators=111, max_features=sqrt, min_samples_split=10, min_samples_leaf=1, max_depth=None, total=   1.1s\n",
      "[CV] bootstrap=True, n_estimators=111, max_features=sqrt, min_samples_split=10, min_samples_leaf=1, max_depth=None \n",
      "[CV]  bootstrap=True, n_estimators=111, max_features=sqrt, min_samples_split=10, min_samples_leaf=1, max_depth=None, total=   0.9s\n",
      "[CV] bootstrap=True, n_estimators=23, max_features=auto, min_samples_split=10, min_samples_leaf=1, max_depth=100 \n",
      "[CV]  bootstrap=True, n_estimators=23, max_features=auto, min_samples_split=10, min_samples_leaf=1, max_depth=100, total=   0.2s\n",
      "[CV] bootstrap=True, n_estimators=23, max_features=auto, min_samples_split=10, min_samples_leaf=1, max_depth=100 \n",
      "[CV]  bootstrap=True, n_estimators=23, max_features=auto, min_samples_split=10, min_samples_leaf=1, max_depth=100, total=   0.2s\n",
      "[CV] bootstrap=True, n_estimators=23, max_features=auto, min_samples_split=10, min_samples_leaf=1, max_depth=100 \n",
      "[CV]  bootstrap=True, n_estimators=23, max_features=auto, min_samples_split=10, min_samples_leaf=1, max_depth=100, total=   0.1s\n",
      "[CV] bootstrap=False, n_estimators=1, max_features=sqrt, min_samples_split=5, min_samples_leaf=1, max_depth=90 \n",
      "[CV]  bootstrap=False, n_estimators=1, max_features=sqrt, min_samples_split=5, min_samples_leaf=1, max_depth=90, total=   0.0s\n",
      "[CV] bootstrap=False, n_estimators=1, max_features=sqrt, min_samples_split=5, min_samples_leaf=1, max_depth=90 \n",
      "[CV]  bootstrap=False, n_estimators=1, max_features=sqrt, min_samples_split=5, min_samples_leaf=1, max_depth=90, total=   0.0s\n",
      "[CV] bootstrap=False, n_estimators=1, max_features=sqrt, min_samples_split=5, min_samples_leaf=1, max_depth=90 \n",
      "[CV]  bootstrap=False, n_estimators=1, max_features=sqrt, min_samples_split=5, min_samples_leaf=1, max_depth=90, total=   0.0s\n",
      "[CV] bootstrap=True, n_estimators=89, max_features=sqrt, min_samples_split=2, min_samples_leaf=1, max_depth=60 \n",
      "[CV]  bootstrap=True, n_estimators=89, max_features=sqrt, min_samples_split=2, min_samples_leaf=1, max_depth=60, total=   0.8s\n",
      "[CV] bootstrap=True, n_estimators=89, max_features=sqrt, min_samples_split=2, min_samples_leaf=1, max_depth=60 \n",
      "[CV]  bootstrap=True, n_estimators=89, max_features=sqrt, min_samples_split=2, min_samples_leaf=1, max_depth=60, total=   0.7s\n",
      "[CV] bootstrap=True, n_estimators=89, max_features=sqrt, min_samples_split=2, min_samples_leaf=1, max_depth=60 \n",
      "[CV]  bootstrap=True, n_estimators=89, max_features=sqrt, min_samples_split=2, min_samples_leaf=1, max_depth=60, total=   1.0s\n",
      "[CV] bootstrap=False, n_estimators=177, max_features=auto, min_samples_split=10, min_samples_leaf=1, max_depth=10 \n",
      "[CV]  bootstrap=False, n_estimators=177, max_features=auto, min_samples_split=10, min_samples_leaf=1, max_depth=10, total=   1.9s\n",
      "[CV] bootstrap=False, n_estimators=177, max_features=auto, min_samples_split=10, min_samples_leaf=1, max_depth=10 \n",
      "[CV]  bootstrap=False, n_estimators=177, max_features=auto, min_samples_split=10, min_samples_leaf=1, max_depth=10, total=   1.6s\n",
      "[CV] bootstrap=False, n_estimators=177, max_features=auto, min_samples_split=10, min_samples_leaf=1, max_depth=10 \n",
      "[CV]  bootstrap=False, n_estimators=177, max_features=auto, min_samples_split=10, min_samples_leaf=1, max_depth=10, total=   1.9s\n",
      "[CV] bootstrap=True, n_estimators=1, max_features=sqrt, min_samples_split=2, min_samples_leaf=2, max_depth=60 \n",
      "[CV]  bootstrap=True, n_estimators=1, max_features=sqrt, min_samples_split=2, min_samples_leaf=2, max_depth=60, total=   0.0s\n",
      "[CV] bootstrap=True, n_estimators=1, max_features=sqrt, min_samples_split=2, min_samples_leaf=2, max_depth=60 \n",
      "[CV]  bootstrap=True, n_estimators=1, max_features=sqrt, min_samples_split=2, min_samples_leaf=2, max_depth=60, total=   0.0s\n",
      "[CV] bootstrap=True, n_estimators=1, max_features=sqrt, min_samples_split=2, min_samples_leaf=2, max_depth=60 \n",
      "[CV]  bootstrap=True, n_estimators=1, max_features=sqrt, min_samples_split=2, min_samples_leaf=2, max_depth=60, total=   0.0s\n"
     ]
    },
    {
     "name": "stderr",
     "output_type": "stream",
     "text": [
      "[Parallel(n_jobs=1)]: Done 300 out of 300 | elapsed:  6.5min finished\n"
     ]
    },
    {
     "data": {
      "text/plain": [
       "RandomizedSearchCV(cv=3, error_score='raise',\n",
       "          estimator=RandomForestClassifier(bootstrap=True, class_weight=None, criterion='gini',\n",
       "            max_depth=None, max_features='auto', max_leaf_nodes=None,\n",
       "            min_impurity_decrease=0.0, min_impurity_split=None,\n",
       "            min_samples_leaf=1, min_samples_split=2,\n",
       "            min_weight_fraction_leaf=0.0, n_estimators=10, n_jobs=1,\n",
       "            oob_score=False, random_state=None, verbose=0,\n",
       "            warm_start=False),\n",
       "          fit_params=None, iid=True, n_iter=100, n_jobs=1,\n",
       "          param_distributions={'bootstrap': [True, False], 'n_estimators': [1, 23, 45, 67, 89, 111, 133, 155, 177, 200], 'max_features': ['auto', 'sqrt'], 'min_samples_split': [2, 5, 10], 'min_samples_leaf': [1, 2, 4], 'max_depth': [10, 20, 30, 40, 50, 60, 70, 80, 90, 100, 110, None]},\n",
       "          pre_dispatch='2*n_jobs', random_state=1, refit=True,\n",
       "          return_train_score=True, scoring=None, verbose=2)"
      ]
     },
     "execution_count": 127,
     "metadata": {},
     "output_type": "execute_result"
    }
   ],
   "source": [
    "# Use the random grid to search for best hyperparameters\n",
    "# First create the base model to tune\n",
    "rf = RandomForestClassifier()\n",
    "# Random search of parameters, using 3 fold cross validation, \n",
    "# search across 100 different combinations, and use all available cores\n",
    "rf_random = RandomizedSearchCV(estimator = rf, param_distributions = random_grid, n_iter = 100, cv = 3, verbose=2, random_state=1)\n",
    "#Fit the random search model\n",
    "rf_random.fit(X_train,y_train)"
   ]
  },
  {
   "cell_type": "code",
   "execution_count": 128,
   "metadata": {},
   "outputs": [
    {
     "data": {
      "text/plain": [
       "{'bootstrap': True,\n",
       " 'max_depth': 80,\n",
       " 'max_features': 'auto',\n",
       " 'min_samples_leaf': 4,\n",
       " 'min_samples_split': 5,\n",
       " 'n_estimators': 133}"
      ]
     },
     "execution_count": 128,
     "metadata": {},
     "output_type": "execute_result"
    }
   ],
   "source": [
    "rf_random.best_params_"
   ]
  },
  {
   "cell_type": "code",
   "execution_count": 130,
   "metadata": {},
   "outputs": [],
   "source": [
    "rf = RandomForestClassifier(bootstrap= True,\n",
    " max_depth= 80,\n",
    " max_features= 'auto',\n",
    " min_samples_leaf= 4,\n",
    " min_samples_split= 5,\n",
    " n_estimators= 133,\n",
    "random_state=10)"
   ]
  },
  {
   "cell_type": "code",
   "execution_count": 131,
   "metadata": {},
   "outputs": [
    {
     "data": {
      "text/plain": [
       "RandomForestClassifier(bootstrap=True, class_weight=None, criterion='gini',\n",
       "            max_depth=80, max_features='auto', max_leaf_nodes=None,\n",
       "            min_impurity_decrease=0.0, min_impurity_split=None,\n",
       "            min_samples_leaf=4, min_samples_split=5,\n",
       "            min_weight_fraction_leaf=0.0, n_estimators=133, n_jobs=1,\n",
       "            oob_score=False, random_state=10, verbose=0, warm_start=False)"
      ]
     },
     "execution_count": 131,
     "metadata": {},
     "output_type": "execute_result"
    }
   ],
   "source": [
    "rf.fit(X_train,y_train)"
   ]
  },
  {
   "cell_type": "code",
   "execution_count": 132,
   "metadata": {
    "collapsed": true
   },
   "outputs": [],
   "source": [
    "predictions = rf.predict(X_test)"
   ]
  },
  {
   "cell_type": "code",
   "execution_count": 136,
   "metadata": {},
   "outputs": [
    {
     "data": {
      "text/plain": [
       "<matplotlib.axes._subplots.AxesSubplot at 0x5dea4278>"
      ]
     },
     "execution_count": 136,
     "metadata": {},
     "output_type": "execute_result"
    },
    {
     "data": {
      "image/png": "[encoded data removed]",
      "text/plain": [
       "<matplotlib.figure.Figure at 0x5de90c18>"
      ]
     },
     "metadata": {},
     "output_type": "display_data"
    }
   ],
   "source": [
    "import scikitplot\n",
    "%matplotlib inline\n",
    "scikitplot.metrics.plot_confusion_matrix(y_test,predictions)"
   ]
  },
  {
   "cell_type": "code",
   "execution_count": 137,
   "metadata": {},
   "outputs": [
    {
     "name": "stdout",
     "output_type": "stream",
     "text": [
      "Accuracy Score :  0.815\n"
     ]
    }
   ],
   "source": [
    "print('Accuracy Score : ',accuracy_score(y_test,predictions))"
   ]
  },
  {
   "cell_type": "markdown",
   "metadata": {},
   "source": [
    "#### Training the model after removing stop words"
   ]
  },
  {
   "cell_type": "code",
   "execution_count": 138,
   "metadata": {
    "collapsed": true
   },
   "outputs": [],
   "source": [
    "from nltk.corpus import stopwords\n",
    "stopwords_list = stopwords.words('english')\n",
    "all_words_in_reviews = nltk.FreqDist(word.lower() for word in movie_reviews.words() if word not in stopwords_list)\n",
    "top_words_in_reviews = [list(words) for words in zip(*all_words_in_reviews.most_common(2000))][0]"
   ]
  },
  {
   "cell_type": "code",
   "execution_count": 139,
   "metadata": {
    "collapsed": true
   },
   "outputs": [],
   "source": [
    "featuresets = [(ext_ft(d,top_words_in_reviews), c) for (d,c) in reviews]\n",
    "train_set, test_set = featuresets[200:], featuresets[:200]\n",
    "X_train,X_test,y_train,y_test = get_train_test(train_set,test_set)"
   ]
  },
  {
   "cell_type": "code",
   "execution_count": 140,
   "metadata": {},
   "outputs": [
    {
     "data": {
      "text/plain": [
       "RandomForestClassifier(bootstrap=True, class_weight=None, criterion='gini',\n",
       "            max_depth=80, max_features='auto', max_leaf_nodes=None,\n",
       "            min_impurity_decrease=0.0, min_impurity_split=None,\n",
       "            min_samples_leaf=4, min_samples_split=5,\n",
       "            min_weight_fraction_leaf=0.0, n_estimators=133, n_jobs=1,\n",
       "            oob_score=False, random_state=10, verbose=0, warm_start=False)"
      ]
     },
     "execution_count": 140,
     "metadata": {},
     "output_type": "execute_result"
    }
   ],
   "source": [
    "rf.fit(X_train,y_train)"
   ]
  },
  {
   "cell_type": "code",
   "execution_count": 141,
   "metadata": {
    "collapsed": true
   },
   "outputs": [],
   "source": [
    "predictions = rf.predict(X_test)"
   ]
  },
  {
   "cell_type": "code",
   "execution_count": 142,
   "metadata": {},
   "outputs": [
    {
     "data": {
      "text/plain": [
       "<matplotlib.axes._subplots.AxesSubplot at 0x5e1a2978>"
      ]
     },
     "execution_count": 142,
     "metadata": {},
     "output_type": "execute_result"
    },
    {
     "data": {
      "image/png": "[encoded data removed]",
      "text/plain": [
       "<matplotlib.figure.Figure at 0x10c6af28>"
      ]
     },
     "metadata": {},
     "output_type": "display_data"
    }
   ],
   "source": [
    "scikitplot.metrics.plot_confusion_matrix(y_test,predictions)"
   ]
  },
  {
   "cell_type": "code",
   "execution_count": 143,
   "metadata": {},
   "outputs": [
    {
     "name": "stdout",
     "output_type": "stream",
     "text": [
      "Accuracy Score :  0.85\n"
     ]
    }
   ],
   "source": [
    "print('Accuracy Score : ',accuracy_score(y_test,predictions))"
   ]
  },
  {
   "cell_type": "code",
   "execution_count": 148,
   "metadata": {},
   "outputs": [
    {
     "name": "stdout",
     "output_type": "stream",
     "text": [
      "[('word_present(bad)', 0.02617183633282115), ('word_present(worst)', 0.011079039903590604), ('word_present(boring)', 0.010191700538319711), ('word_present(mess)', 0.008286172529669757), ('word_present(stupid)', 0.0079906330433508), ('word_present(awful)', 0.007902269492777683), ('word_present(outstanding)', 0.007721536494692444), ('word_present(waste)', 0.0073572997654592), ('word_present(plot)', 0.006550555072123443), ('word_present(ridiculous)', 0.00597412272619634), ('word_present(nothing)', 0.005709201504875984), ('word_present(supposed)', 0.0051189413875651485), ('word_present(performances)', 0.005089537498542844), ('word_present(wasted)', 0.005046529325178262), ('word_present(many)', 0.005044178485507279), ('word_present(true)', 0.004857755578889142), ('word_present(lame)', 0.004651736343982624), ('word_present(great)', 0.004565380280621675), ('word_present(wonderfully)', 0.004558149594604502), ('word_present(memorable)', 0.004550048992490794)]\n"
     ]
    }
   ],
   "source": [
    "features_list = zip(dict_vectorizer.get_feature_names(),rf.feature_importances_)\n",
    "features_list = sorted(features_list, key=lambda x: x[1], reverse=True)\n",
    "#features_list = sorted(features_list,reverse=True)\n",
    "print(features_list[0:20])"
   ]
  }
 ],
 "metadata": {
  "kernelspec": {
   "display_name": "Python 3",
   "language": "python",
   "name": "python3"
  },
  "language_info": {
   "codemirror_mode": {
    "name": "ipython",
    "version": 3
   },
   "file_extension": ".py",
   "mimetype": "text/x-python",
   "name": "python",
   "nbconvert_exporter": "python",
   "pygments_lexer": "ipython3",
   "version": "3.5.4"
  }
 },
 "nbformat": 4,
 "nbformat_minor": 2
}

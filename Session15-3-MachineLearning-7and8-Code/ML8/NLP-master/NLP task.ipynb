{
 "cells": [
  {
   "cell_type": "code",
   "execution_count": 7,
   "metadata": {},
   "outputs": [
    {
     "name": "stdout",
     "output_type": "stream",
     "text": [
      "('data', 'science') ('science', 'is') ('is', 'fun')\n"
     ]
    }
   ],
   "source": [
    "import nltk\n",
    "text = \"data science is fun\"\n",
    "grams = nltk.ngrams(nltk.word_tokenize( text ), n = 2)\n",
    "\n",
    "\n",
    "print (\" \".join(str(g) for g in grams))\n",
    "#print (\" \".join(grams))\n",
    "\n",
    "\n"
   ]
  },
  {
   "cell_type": "code",
   "execution_count": 9,
   "metadata": {},
   "outputs": [
    {
     "data": {
      "image/png": "[encoded data removed]",
      "text/plain": [
       "Tree('S', [Tree('GPE', [('Neeraj', 'NNP')]), ('works', 'VBZ'), ('at', 'IN'), Tree('ORGANIZATION', [('Google', 'NNP'), ('Inc', 'NNP')]), ('as', 'IN'), ('data', 'NNS'), ('scientist', 'NN')])"
      ]
     },
     "execution_count": 9,
     "metadata": {},
     "output_type": "execute_result"
    }
   ],
   "source": [
    "import nltk\n",
    "sentence = \"Neeraj works at Google Inc as data scientist\"\n",
    "nltk.ne_chunk(nltk.pos_tag(nltk.word_tokenize(sentence)))"
   ]
  },
  {
   "cell_type": "code",
   "execution_count": 10,
   "metadata": {},
   "outputs": [
    {
     "data": {
      "text/plain": [
       "[('Very', 'RB'), ('interesting', 'JJ'), ('question', 'NN')]"
      ]
     },
     "execution_count": 10,
     "metadata": {},
     "output_type": "execute_result"
    }
   ],
   "source": [
    "nltk.pos_tag(nltk.word_tokenize(\"Very interesting question\"))"
   ]
  }
 ],
 "metadata": {
  "kernelspec": {
   "display_name": "Python 3",
   "language": "python",
   "name": "python3"
  },
  "language_info": {
   "codemirror_mode": {
    "name": "ipython",
    "version": 3
   },
   "file_extension": ".py",
   "mimetype": "text/x-python",
   "name": "python",
   "nbconvert_exporter": "python",
   "pygments_lexer": "ipython3",
   "version": "3.7.0"
  }
 },
 "nbformat": 4,
 "nbformat_minor": 2
}

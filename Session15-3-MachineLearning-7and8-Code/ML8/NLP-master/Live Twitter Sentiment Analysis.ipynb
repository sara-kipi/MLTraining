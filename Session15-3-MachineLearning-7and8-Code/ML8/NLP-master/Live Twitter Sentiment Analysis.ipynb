{
 "cells": [
  {
   "cell_type": "markdown",
   "metadata": {},
   "source": [
    "#### Data Mining Technique that epresent's the general public sentiment on Social Media using NLP.\n",
    "\n",
    "\n",
    "* sentiment Analysis is also known as opinion mining.\n",
    "* Steps Involved :-\n",
    "    1. Installing tweepy\n",
    "    \n",
    "    2. creating account with Twitter API\n",
    "    \n",
    "    3. Importing libraries\n",
    "    \n",
    "    4. connecting with Twitter API\n",
    "    \n",
    "    5. Iterate and Analyse the tweet data\n",
    "    \n",
    "    6. Print the result with pie chart\n",
    "\n"
   ]
  },
  {
   "cell_type": "code",
   "execution_count": 3,
   "metadata": {},
   "outputs": [
    {
     "name": "stdout",
     "output_type": "stream",
     "text": [
      "Collecting tweepy\n",
      "  Downloading https://files.pythonhosted.org/packages/d5/5f/daac4b4e9b30d7d2a6fdd16a880ff79f27918fe388e4dfc1983dec3a9876/tweepy-3.7.0-py2.py3-none-any.whl\n",
      "Requirement already satisfied: requests>=2.11.1 in d:\\users\\plaban_nayak\\appdata\\local\\continuum\\anaconda3\\lib\\site-packages (from tweepy) (2.19.1)\n",
      "Requirement already satisfied: six>=1.10.0 in d:\\users\\plaban_nayak\\appdata\\local\\continuum\\anaconda3\\lib\\site-packages (from tweepy) (1.11.0)\n",
      "Collecting requests-oauthlib>=0.7.0 (from tweepy)\n",
      "  Downloading https://files.pythonhosted.org/packages/94/e7/c250d122992e1561690d9c0f7856dadb79d61fd4bdd0e598087dce607f6c/requests_oauthlib-1.0.0-py2.py3-none-any.whl\n",
      "Requirement already satisfied: PySocks>=1.5.7 in d:\\users\\plaban_nayak\\appdata\\local\\continuum\\anaconda3\\lib\\site-packages (from tweepy) (1.6.8)\n",
      "Requirement already satisfied: idna<2.8,>=2.5 in d:\\users\\plaban_nayak\\appdata\\local\\continuum\\anaconda3\\lib\\site-packages (from requests>=2.11.1->tweepy) (2.7)\n",
      "Requirement already satisfied: certifi>=2017.4.17 in d:\\users\\plaban_nayak\\appdata\\local\\continuum\\anaconda3\\lib\\site-packages (from requests>=2.11.1->tweepy) (2018.11.29)\n",
      "Requirement already satisfied: chardet<3.1.0,>=3.0.2 in d:\\users\\plaban_nayak\\appdata\\local\\continuum\\anaconda3\\lib\\site-packages (from requests>=2.11.1->tweepy) (3.0.4)\n",
      "Requirement already satisfied: urllib3<1.24,>=1.21.1 in d:\\users\\plaban_nayak\\appdata\\local\\continuum\\anaconda3\\lib\\site-packages (from requests>=2.11.1->tweepy) (1.23)\n",
      "Collecting oauthlib>=0.6.2 (from requests-oauthlib>=0.7.0->tweepy)\n",
      "  Downloading https://files.pythonhosted.org/packages/e6/d1/ddd9cfea3e736399b97ded5c2dd62d1322adef4a72d816f1ed1049d6a179/oauthlib-2.1.0-py2.py3-none-any.whl (121kB)\n",
      "Installing collected packages: oauthlib, requests-oauthlib, tweepy\n",
      "Successfully installed oauthlib-2.1.0 requests-oauthlib-1.0.0 tweepy-3.7.0\n"
     ]
    },
    {
     "name": "stderr",
     "output_type": "stream",
     "text": [
      "You are using pip version 10.0.1, however version 18.1 is available.\n",
      "You should consider upgrading via the 'python -m pip install --upgrade pip' command.\n"
     ]
    }
   ],
   "source": [
    "!pip install tweepy"
   ]
  },
  {
   "cell_type": "code",
   "execution_count": 6,
   "metadata": {},
   "outputs": [],
   "source": [
    "from textblob import TextBlob\n",
    "import sys\n",
    "import tweepy\n",
    "import matplotlib.pyplot as plt\n",
    "%matplotlib inline"
   ]
  },
  {
   "cell_type": "code",
   "execution_count": 7,
   "metadata": {},
   "outputs": [],
   "source": [
    "def percentage(part,whole):\n",
    "    return 100 * float(part) /float(whole)"
   ]
  },
  {
   "cell_type": "code",
   "execution_count": 8,
   "metadata": {},
   "outputs": [],
   "source": [
    "#connecting with twitter APIs\n",
    "\n",
    "#importing the keys\n",
    "consumerKey = 'KVq08r8evvdYrCCHnkrQjceuo'\n",
    "consumerSecret = 'jc3CqPNTFmzBvA7IVu7GZJ6S3zdfpGkz7QTJaZ3YU4qtp9UKaW'\n",
    "accessToken = '1075058762753269761-HYc8VLLYrnbreDmlvRyE7HN5GfRVZa'\n",
    "accessTokenSecret = 'Htzam9S2iRK7FKr6PgHAiHkaJTVU19EsaEmtuRUAYjyjC'\n"
   ]
  },
  {
   "cell_type": "code",
   "execution_count": 9,
   "metadata": {},
   "outputs": [],
   "source": [
    "#establish the connection with API\n",
    "auth = tweepy.OAuthHandler(consumerKey,consumerSecret)\n",
    "auth.set_access_token(accessToken,accessTokenSecret)\n",
    "api = tweepy.API(auth)"
   ]
  },
  {
   "cell_type": "code",
   "execution_count": 46,
   "metadata": {},
   "outputs": [
    {
     "name": "stdout",
     "output_type": "stream",
     "text": [
      "Enter the key word / tag to search : Narendra Modi\n",
      "Enter how many tweets to search : 20\n"
     ]
    }
   ],
   "source": [
    "searchTerm = input(\"Enter the key word / tag to search : \")\n",
    "NoOfTerms = int(input(\"Enter how many tweets to search : \"))"
   ]
  },
  {
   "cell_type": "code",
   "execution_count": 47,
   "metadata": {},
   "outputs": [],
   "source": [
    "#get number of tweets and search term together\n",
    "tweets = tweepy.Cursor(api.search,q=searchTerm).items(NoOfTerms)"
   ]
  },
  {
   "cell_type": "code",
   "execution_count": 14,
   "metadata": {},
   "outputs": [
    {
     "data": {
      "text/plain": [
       "<tweepy.cursor.ItemIterator at 0xad3b710>"
      ]
     },
     "execution_count": 14,
     "metadata": {},
     "output_type": "execute_result"
    }
   ],
   "source": [
    "tweets"
   ]
  },
  {
   "cell_type": "code",
   "execution_count": 34,
   "metadata": {},
   "outputs": [
    {
     "data": {
      "text/plain": [
       "-0.6999999999999998"
      ]
     },
     "execution_count": 34,
     "metadata": {},
     "output_type": "execute_result"
    }
   ],
   "source": [
    "#iterate and analyze the tweets data\n",
    "a = TextBlob(\"I am a bad cricket player\")\n",
    "a.sentiment.polarity"
   ]
  },
  {
   "cell_type": "code",
   "execution_count": 16,
   "metadata": {},
   "outputs": [
    {
     "data": {
      "text/plain": [
       "0.7"
      ]
     },
     "execution_count": 16,
     "metadata": {},
     "output_type": "execute_result"
    }
   ],
   "source": [
    "b = TextBlob(\"I am a good cricket player\")\n",
    "b.sentiment.polarity"
   ]
  },
  {
   "cell_type": "code",
   "execution_count": 48,
   "metadata": {},
   "outputs": [],
   "source": [
    "#create variables to hold the average polarity\n",
    "positive  =0\n",
    "negative = 0\n",
    "neutral = 0\n",
    "polarity = 0\n",
    "\n",
    "for tweet in tweets:\n",
    "    analysis = TextBlob(tweet.text)\n",
    "   \n",
    "    polarity += analysis.sentiment.polarity\n",
    "    \n",
    "    if (analysis.sentiment.polarity > 0.00):\n",
    "        positive +=1\n",
    "    elif (analysis.sentiment.polarity < 0.00):\n",
    "        negative +=1\n",
    "    else:\n",
    "        neutral +=1"
   ]
  },
  {
   "cell_type": "code",
   "execution_count": 49,
   "metadata": {},
   "outputs": [],
   "source": [
    "#genearte percantage using percentage function\n",
    "positive  = percentage(positive,NoOfTerms)\n",
    "negative = percentage(negative,NoOfTerms)\n",
    "neutral = percentage(neutral,NoOfTerms)\n",
    "polarity = percentage(polarity,NoOfTerms)"
   ]
  },
  {
   "cell_type": "code",
   "execution_count": 50,
   "metadata": {},
   "outputs": [
    {
     "name": "stdout",
     "output_type": "stream",
     "text": [
      "percentage of positive sentiments 25.0\n",
      "percentage of negative sentiments 5.0\n",
      "percentage of neutral sentiments 70.0\n",
      "polarity of the tweet 6.363636363636365\n"
     ]
    }
   ],
   "source": [
    "print(\"percentage of positive sentiments {}\".format(positive,'.2f'))\n",
    "print(\"percentage of negative sentiments {}\".format(negative,'.2f'))\n",
    "print(\"percentage of neutral sentiments {}\".format(neutral,'.2f'))\n",
    "print(\"polarity of the tweet {}\".format(polarity,'.2f'))"
   ]
  },
  {
   "cell_type": "code",
   "execution_count": 51,
   "metadata": {},
   "outputs": [
    {
     "name": "stdout",
     "output_type": "stream",
     "text": [
      "How people are reacting on Narendra Modi by analyzing 20 Tweets\n",
      "Positive\n"
     ]
    }
   ],
   "source": [
    "#print results\n",
    "print(\"How people are reacting on \" +searchTerm + \" by analyzing \"+str(NoOfTerms)+\" Tweets\")\n",
    "if polarity > 0.00:\n",
    "    print(\"Positive\")\n",
    "elif polarity < 0.00:\n",
    "    print(\"Negative\")\n",
    "else:\n",
    "    print('neutral')"
   ]
  },
  {
   "cell_type": "code",
   "execution_count": 52,
   "metadata": {},
   "outputs": [
    {
     "data": {
      "image/png": "[encoded data removed]",
      "text/plain": [
       "<Figure size 432x288 with 1 Axes>"
      ]
     },
     "metadata": {},
     "output_type": "display_data"
    }
   ],
   "source": [
    "#represent the polarity on a pie chart\n",
    "labels = ['Positive['+str(positive)+'%]',\n",
    "          'Negative['+str(negative)+'%]',\n",
    "          'Neutral['+str(neutral)+'%]'\n",
    "         ]\n",
    "sizes = [positive,negative,neutral]\n",
    "colors = ['green','red','gold']\n",
    "patches,texts = plt.pie(sizes,colors=colors,startangle=90)\n",
    "plt.legend(patches,labels,loc='best')\n",
    "plt.title(\"How people are reacting on \" +searchTerm + \" by analyzing \"+str(NoOfTerms)+\" Tweets\")\n",
    "plt.axis(\"equal\")\n",
    "plt.tight_layout\n",
    "plt.show()"
   ]
  }
 ],
 "metadata": {
  "kernelspec": {
   "display_name": "Python 3",
   "language": "python",
   "name": "python3"
  },
  "language_info": {
   "codemirror_mode": {
    "name": "ipython",
    "version": 3
   },
   "file_extension": ".py",
   "mimetype": "text/x-python",
   "name": "python",
   "nbconvert_exporter": "python",
   "pygments_lexer": "ipython3",
   "version": "3.6.6"
  }
 },
 "nbformat": 4,
 "nbformat_minor": 2
}

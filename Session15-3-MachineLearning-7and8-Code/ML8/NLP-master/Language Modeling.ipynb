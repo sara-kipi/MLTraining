{
 "cells": [
  {
   "cell_type": "markdown",
   "metadata": {},
   "source": [
    "import the required libraries"
   ]
  },
  {
   "cell_type": "code",
   "execution_count": 15,
   "metadata": {},
   "outputs": [],
   "source": [
    "from keras.preprocessing.sequence import pad_sequences\n",
    "from keras.layers import Embedding, LSTM, Dense,Dropout\n",
    "from keras.preprocessing.text import Tokenizer\n",
    "from keras.callbacks import EarlyStopping\n",
    "from keras.models import Sequential\n",
    "import keras.utils as ku \n",
    "import numpy as np"
   ]
  },
  {
   "cell_type": "code",
   "execution_count": 2,
   "metadata": {},
   "outputs": [],
   "source": [
    "# load ascii text and covert to lowercase\n",
    "filename = \"wonderland.txt\"\n",
    "raw_text = open(filename,encoding=\"utf8\").read()\n",
    "raw_text = raw_text.lower()"
   ]
  },
  {
   "cell_type": "markdown",
   "metadata": {},
   "source": [
    "In dataset preparation step, we will first perform Tokenization. Tokenization is a process of extracting tokens (terms / words) from a corpus. Python’s library Keras has inbuilt model for tokenization which can be used to obtain the tokens and their index in the corpus."
   ]
  },
  {
   "cell_type": "code",
   "execution_count": 3,
   "metadata": {},
   "outputs": [],
   "source": [
    "tokenizer = Tokenizer()\n"
   ]
  },
  {
   "cell_type": "code",
   "execution_count": 10,
   "metadata": {},
   "outputs": [],
   "source": [
    "def dataset_preparation(data):\n",
    "    corpus = data.lower().split(\"\\n\")    \n",
    "    tokenizer.fit_on_texts(corpus)\n",
    "    total_words = len(tokenizer.word_index) + 1\n",
    "    \n",
    "    #####Next, we need to convert the corpus into a flat dataset of sentence sequences.\n",
    "    input_sequences = []\n",
    "    for line in corpus:\n",
    "        token_list = tokenizer.texts_to_sequences([line])[0]\n",
    "        for i in range(1, len(token_list)):\n",
    "            n_gram_sequence = token_list[:i+1]\n",
    "            input_sequences.append(n_gram_sequence)\n",
    "    ####Now that we have generated a data-set which contains sequence of tokens, \n",
    "    ####it is possible that different sequences have different lengths. \n",
    "    ####Before starting training the model, we need to pad the sequences and make their lengths equal. \n",
    "    ####We can use pad_sequence function of Kears for this purpose.\n",
    "\n",
    "    max_sequence_len = max([len(x) for x in input_sequences])\n",
    "    input_sequences = np.array(pad_sequences(input_sequences,maxlen=max_sequence_len, padding='pre'))\n",
    "    \n",
    "    ####To input this data into a learning model, we need to create predictors and label. \n",
    "    ####We will create N-grams sequence as predictors and the next word of the N-gram as label.\n",
    "    \n",
    "    predictors, label = input_sequences[:,:-1],input_sequences[:,-1]\n",
    "    label = ku.to_categorical(label, num_classes=total_words)\n",
    "    \n",
    "    return predictors, label,max_sequence_len, total_words"
   ]
  },
  {
   "cell_type": "code",
   "execution_count": 5,
   "metadata": {},
   "outputs": [],
   "source": [
    "predictors, label = dataset_preparation(raw_text)"
   ]
  },
  {
   "cell_type": "code",
   "execution_count": 6,
   "metadata": {},
   "outputs": [
    {
     "data": {
      "text/plain": [
       "array([[0., 0., 0., ..., 0., 0., 0.],\n",
       "       [0., 0., 0., ..., 0., 0., 0.],\n",
       "       [0., 0., 0., ..., 0., 0., 0.],\n",
       "       ...,\n",
       "       [0., 0., 0., ..., 0., 0., 0.],\n",
       "       [0., 0., 0., ..., 0., 0., 0.],\n",
       "       [0., 0., 0., ..., 0., 0., 0.]], dtype=float32)"
      ]
     },
     "execution_count": 6,
     "metadata": {},
     "output_type": "execute_result"
    }
   ],
   "source": [
    "label"
   ]
  },
  {
   "cell_type": "code",
   "execution_count": 7,
   "metadata": {},
   "outputs": [
    {
     "data": {
      "text/plain": [
       "array([[   0,    0,    0, ...,    0,    0,   54],\n",
       "       [   0,    0,    0, ...,    0,   54, 1308],\n",
       "       [   0,    0,    0, ...,   54, 1308,  250],\n",
       "       ...,\n",
       "       [   0,    0,    0, ..., 3398,    4,  278],\n",
       "       [   0,    0,    0, ...,    4,  278,   38],\n",
       "       [   0,    0,    0, ...,  278,   38,  497]])"
      ]
     },
     "execution_count": 7,
     "metadata": {},
     "output_type": "execute_result"
    }
   ],
   "source": [
    "predictors"
   ]
  },
  {
   "cell_type": "markdown",
   "metadata": {},
   "source": [
    "Recurrent Neural Networks\n",
    "\n",
    "Unlike Feed-forward neural networks in which activation outputs are propagated only in one direction, the activation outputs from neurons propagate in both directions (from inputs to outputs and from outputs to inputs) in Recurrent Neural Networks. This creates loops in the neural network architecture which acts as a ‘memory state’ of the neurons. This state allows the neurons an ability to remember what have been learned so far.\n",
    "\n",
    "The memory state in RNNs gives an advantage over traditional neural networks but a problem called Vanishing Gradient is associated with them. In this problem, while learning with a large number of layers, it becomes really hard for the network to learn and tune the parameters of the earlier layers. To address this problem, A new type of RNNs called LSTMs (Long Short Term Memory) Models have been developed."
   ]
  },
  {
   "cell_type": "markdown",
   "metadata": {},
   "source": [
    "LSTMs have an additional state called ‘cell state’ through which the network makes adjustments in the information flow. The advantage of this state is that the model can remember or forget the leanings more selectively. To learn more about LSTMs, here is a great post. Lets architecture a LSTM model in our code. I have added total three layers in the model.\n",
    "\n",
    "Input Layer : Takes the sequence of words as input\n",
    "    \n",
    "LSTM Layer : Computes the output using LSTM units. I have added 100 units in the layer, but this number can be fine tuned later.\n",
    "\n",
    "Dropout Layer : A regularisation layer which randomly turns-off the activations of some neurons in the LSTM layer. It helps in preventing over fitting.\n",
    "\n",
    "Output Layer : Computes the probability of the best possible next word as output"
   ]
  },
  {
   "cell_type": "code",
   "execution_count": 32,
   "metadata": {},
   "outputs": [],
   "source": [
    "def create_model(predictors, label, max_sequence_len, total_words):\n",
    "    input_len = max_sequence_len - 1\n",
    "    model = Sequential()\n",
    "    model.add(Embedding(total_words, 10, input_length=input_len))\n",
    "    model.add(LSTM(150))\n",
    "    model.add(Dropout(0.1))\n",
    "    model.add(Dense(total_words, activation='softmax'))\n",
    "    model.compile(loss='categorical_crossentropy', optimizer='adam')\n",
    "    model.fit(predictors, label, epochs=25, verbose=1)\n",
    "    return model"
   ]
  },
  {
   "cell_type": "markdown",
   "metadata": {},
   "source": [
    "Great, our model architecture is now ready and we can train it using our data. Next lets write the function to predict the next word based on the input words (or seed text). We will first tokenize the seed text, pad the sequences and pass into the trained model to get predicted word. The multiple predicted words can be appended together to get predicted sequence."
   ]
  },
  {
   "cell_type": "code",
   "execution_count": 27,
   "metadata": {},
   "outputs": [],
   "source": [
    "def generate_text(seed_text, next_words, max_sequence_len,model):\n",
    "\tfor _ in range(next_words):\n",
    "\t\ttoken_list = tokenizer.texts_to_sequences([seed_text])[0]\n",
    "\t\ttoken_list = pad_sequences([token_list], maxlen=max_sequence_len-1, padding='pre')\n",
    "\t\tpredicted = model.predict_classes(token_list)\n",
    "\t\toutput_word = \"\"\n",
    "\t\tfor word, index in tokenizer.word_index.items():\n",
    "\t\t\tif index == predicted:\n",
    "\t\t\t\toutput_word = word\n",
    "\t\t\t\tbreak\n",
    "\t\tseed_text += \" \" + output_word\n",
    "\treturn seed_text"
   ]
  },
  {
   "cell_type": "code",
   "execution_count": 33,
   "metadata": {},
   "outputs": [
    {
     "name": "stdout",
     "output_type": "stream",
     "text": [
      "Epoch 1/25\n",
      "28231/28231 [==============================] - 62s 2ms/step - loss: 6.3252\n",
      "Epoch 2/25\n",
      "28231/28231 [==============================] - 59s 2ms/step - loss: 5.9243\n",
      "Epoch 3/25\n",
      "28231/28231 [==============================] - 59s 2ms/step - loss: 5.6653\n",
      "Epoch 4/25\n",
      "28231/28231 [==============================] - 59s 2ms/step - loss: 5.4308\n",
      "Epoch 5/25\n",
      "28231/28231 [==============================] - 61s 2ms/step - loss: 5.1931\n",
      "Epoch 6/25\n",
      "28231/28231 [==============================] - 64s 2ms/step - loss: 4.9588\n",
      "Epoch 7/25\n",
      "28231/28231 [==============================] - 68s 2ms/step - loss: 4.7364\n",
      "Epoch 8/25\n",
      "28231/28231 [==============================] - 68s 2ms/step - loss: 4.5280\n",
      "Epoch 9/25\n",
      "28231/28231 [==============================] - 68s 2ms/step - loss: 4.3380\n",
      "Epoch 10/25\n",
      "28231/28231 [==============================] - 68s 2ms/step - loss: 4.1611\n",
      "Epoch 11/25\n",
      "28231/28231 [==============================] - 69s 2ms/step - loss: 3.9930\n",
      "Epoch 12/25\n",
      "28231/28231 [==============================] - 68s 2ms/step - loss: 3.8321\n",
      "Epoch 13/25\n",
      "28231/28231 [==============================] - 62s 2ms/step - loss: 3.6817\n",
      "Epoch 14/25\n",
      "28231/28231 [==============================] - 64s 2ms/step - loss: 3.5409\n",
      "Epoch 15/25\n",
      "28231/28231 [==============================] - 60s 2ms/step - loss: 3.4048\n",
      "Epoch 16/25\n",
      "28231/28231 [==============================] - 60s 2ms/step - loss: 3.2843\n",
      "Epoch 17/25\n",
      "28231/28231 [==============================] - 59s 2ms/step - loss: 3.1687\n",
      "Epoch 18/25\n",
      "28231/28231 [==============================] - 59s 2ms/step - loss: 3.0596\n",
      "Epoch 19/25\n",
      "28231/28231 [==============================] - 59s 2ms/step - loss: 2.9637\n",
      "Epoch 20/25\n",
      "28231/28231 [==============================] - 59s 2ms/step - loss: 2.8700\n",
      "Epoch 21/25\n",
      "28231/28231 [==============================] - 61s 2ms/step - loss: 2.7799\n",
      "Epoch 22/25\n",
      "28231/28231 [==============================] - 59s 2ms/step - loss: 2.6962\n",
      "Epoch 23/25\n",
      "28231/28231 [==============================] - 58s 2ms/step - loss: 2.6190\n",
      "Epoch 24/25\n",
      "28231/28231 [==============================] - 71s 3ms/step - loss: 2.5434\n",
      "Epoch 25/25\n",
      "28231/28231 [==============================] - 72s 3ms/step - loss: 2.4673\n"
     ]
    }
   ],
   "source": [
    "X, Y, max_len, total_words = dataset_preparation(raw_text)\n",
    "model = create_model(X, Y, max_len, total_words)"
   ]
  },
  {
   "cell_type": "code",
   "execution_count": 34,
   "metadata": {},
   "outputs": [
    {
     "data": {
      "text/plain": [
       "keras.engine.sequential.Sequential"
      ]
     },
     "execution_count": 34,
     "metadata": {},
     "output_type": "execute_result"
    }
   ],
   "source": [
    "type(model)"
   ]
  },
  {
   "cell_type": "code",
   "execution_count": 35,
   "metadata": {},
   "outputs": [
    {
     "name": "stdout",
     "output_type": "stream",
     "text": [
      "alice was a little irritated\n"
     ]
    }
   ],
   "source": [
    "text = generate_text(\"alice was\", 3, max_len,model)\n",
    "print(text)"
   ]
  },
  {
   "cell_type": "code",
   "execution_count": 36,
   "metadata": {},
   "outputs": [
    {
     "name": "stdout",
     "output_type": "stream",
     "text": [
      "the forest queen was a\n"
     ]
    }
   ],
   "source": [
    "text = generate_text(\"the forest\", 3, max_len, model)\n",
    "print(text)"
   ]
  },
  {
   "cell_type": "code",
   "execution_count": 40,
   "metadata": {},
   "outputs": [
    {
     "name": "stdout",
     "output_type": "stream",
     "text": [
      "poisonous cake ‘i don’t have\n"
     ]
    }
   ],
   "source": [
    "text = generate_text(\"poisonous cake\", 3, max_len, model)\n",
    "print(text)"
   ]
  }
 ],
 "metadata": {
  "kernelspec": {
   "display_name": "Python 3",
   "language": "python",
   "name": "python3"
  },
  "language_info": {
   "codemirror_mode": {
    "name": "ipython",
    "version": 3
   },
   "file_extension": ".py",
   "mimetype": "text/x-python",
   "name": "python",
   "nbconvert_exporter": "python",
   "pygments_lexer": "ipython3",
   "version": "3.6.6"
  }
 },
 "nbformat": 4,
 "nbformat_minor": 2
}

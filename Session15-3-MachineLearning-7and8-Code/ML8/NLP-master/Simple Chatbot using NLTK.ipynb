{
 "cells": [
  {
   "cell_type": "code",
   "execution_count": 1,
   "metadata": {},
   "outputs": [],
   "source": [
    "import nltk"
   ]
  },
  {
   "cell_type": "code",
   "execution_count": 5,
   "metadata": {},
   "outputs": [
    {
     "data": {
      "text/plain": [
       "{'i am': 'you are',\n",
       " 'i was': 'you were',\n",
       " 'i': 'you',\n",
       " \"i'm\": 'you are',\n",
       " \"i'd\": 'you would',\n",
       " \"i've\": 'you have',\n",
       " \"i'll\": 'you will',\n",
       " 'my': 'your',\n",
       " 'you are': 'I am',\n",
       " 'you were': 'I was',\n",
       " \"you've\": 'I have',\n",
       " \"you'll\": 'I will',\n",
       " 'your': 'my',\n",
       " 'yours': 'mine',\n",
       " 'you': 'me',\n",
       " 'me': 'you'}"
      ]
     },
     "execution_count": 5,
     "metadata": {},
     "output_type": "execute_result"
    }
   ],
   "source": [
    "from nltk.chat.util import Chat,reflections\n",
    "reflections"
   ]
  },
  {
   "cell_type": "code",
   "execution_count": 6,
   "metadata": {},
   "outputs": [],
   "source": [
    "my_dummy_reflections= {\n",
    "    \"go\"     : \"gone\",\n",
    "    \"hello\"    : \"hey there\",\n",
    "    \"hi\" : \"hi there\",\n",
    "    \"bye\" : \"good bye\",\n",
    "    \"no \" : \"no questions ?\"\n",
    "}"
   ]
  },
  {
   "cell_type": "markdown",
   "metadata": {},
   "source": [
    "Using above concept from python’s NLTK library, lets build a simple chatbot without using any of the Machine Learning or Deep Learning Algorithms. So obviously our chatbot will be a decent one but not an intelligent one."
   ]
  },
  {
   "cell_type": "code",
   "execution_count": 26,
   "metadata": {},
   "outputs": [],
   "source": [
    "pairs = [\n",
    "    [\n",
    "        r\"my name is (.*)\",\n",
    "        [\"Hello %1, How are you today ?\",]\n",
    "    ],\n",
    "    [\n",
    "        r\"I have a issue with my laptop\",\n",
    "        [\"Please raise an AHD with CCD ?\",]\n",
    "    ],\n",
    "     [\n",
    "        r\"what is your name ?\",\n",
    "        [\"My name is Chatty and I'm a chatbot ?\",]\n",
    "    ],\n",
    "    [\n",
    "        r\"how are you ?\",\n",
    "        [\"I'm doing good\\nHow about You ?\",]\n",
    "    ],\n",
    "    [\n",
    "        r\"sorry (.*)\",\n",
    "        [\"Its alright\",\"Its OK, never mind\",]\n",
    "    ],\n",
    "    [\n",
    "        r\"i'm (.*) doing good\",\n",
    "        [\"Nice to hear that\",\"Alright :)\",]\n",
    "    ],\n",
    "    [\n",
    "        r\"hi|hey|hello\",\n",
    "        [\"Hello! How may I help you\",\"Hello\", \"Hey there\"]\n",
    "    ],\n",
    "    [\n",
    "        r\"(.*) age?\",\n",
    "        [\"I'm a computer program dude\\nSeriously you are asking me this?\",]\n",
    "        \n",
    "    ],\n",
    "    [\n",
    "        r\"what (.*) want ?\",\n",
    "        [\"Make me an offer I can't refuse\",]\n",
    "        \n",
    "    ],\n",
    "    [\n",
    "        r\"(.*) created ?\",\n",
    "        [\"Nagesh created me using Python's NLTK library \",\"top secret ;)\",]\n",
    "    ],\n",
    "    [\n",
    "        r\"(.*) (location|city) ?\",\n",
    "        ['Chennai, Tamil Nadu',]\n",
    "    ],\n",
    "    [\n",
    "        r\"how is weather in (.*)?\",\n",
    "        [\"Weather in %1 is awesome like always\",\"Too hot man here in %1\",\"Too cold man here in %1\",\"Never even heard about %1\"]\n",
    "    ],\n",
    "    [\n",
    "        r\"i work in (.*)?\",\n",
    "        [\"%1 is an Amazing company, I have heard about it. But they are in huge loss these days.\",]\n",
    "    ],\n",
    "[\n",
    "        r\"(.*)raining in (.*)\",\n",
    "        [\"No rain since last week here in %2\",\"Damn its raining too much here in %2\"]\n",
    "    ],\n",
    "    [\n",
    "        r\"how (.*) health(.*)\",\n",
    "        [\"I'm a computer program, so I'm always healthy \",]\n",
    "    ],\n",
    "    [\n",
    "        r\"(.*) (sports|game) ?\",\n",
    "        [\"I'm a very big fan of Football\",]\n",
    "    ],\n",
    "    [\n",
    "        r\"who (.*) sportsperson ?\",\n",
    "        [\"Messy\",\"Ronaldo\",\"Roony\"]\n",
    "],\n",
    "    [\n",
    "        r\"who (.*) (moviestar|actor)?\",\n",
    "        [\"Brad Pitt\"]\n",
    "],\n",
    "    [\n",
    "        r\"quit\",\n",
    "        [\"BBye take care. See you soon :) \",\"It was nice talking to you. See you soon :)\"]\n",
    "],\n",
    "    [\n",
    "        r\"thank you\",\n",
    "        [\"Welccome . Is there anything else you would like to ask !)\"]\n",
    "],\n",
    "    [\n",
    "        r\"no\",\n",
    "        [\"It was nice talking to you. See you soon :)\"]\n",
    "],\n",
    "]"
   ]
  },
  {
   "cell_type": "code",
   "execution_count": 9,
   "metadata": {},
   "outputs": [
    {
     "data": {
      "text/plain": [
       "(18, ['how are you ?', [\"I'm doing good\\nHow about You ?\"]])"
      ]
     },
     "execution_count": 9,
     "metadata": {},
     "output_type": "execute_result"
    }
   ],
   "source": [
    "len(pairs),pairs[2]"
   ]
  },
  {
   "cell_type": "code",
   "execution_count": 17,
   "metadata": {},
   "outputs": [],
   "source": [
    "#Once the function chatty() is invoked , a default message will be displayed\n",
    "def chatty():\n",
    "    print(\"Hi, I'm Chatty and I chat alot ;)\\nPlease type lowercase English language to start a conversation. Type quit to leave \") #default message at the start\n",
    "    #Next I’ve created an instance of Chat class containing pairs(list of tuples containing set of question and answers) and reflections(discussed above).\n",
    "    chat = Chat(pairs, reflections)\n",
    "    #trigger the conversation\n",
    "    chat.converse()"
   ]
  },
  {
   "cell_type": "code",
   "execution_count": 27,
   "metadata": {},
   "outputs": [
    {
     "name": "stdout",
     "output_type": "stream",
     "text": [
      "Hi, I'm Chatty and I chat alot ;)\n",
      "Please type lowercase English language to start a conversation. Type quit to leave \n",
      ">hello i am plaban\n",
      "Hey there\n",
      ">i have a issue with my laptop\n",
      "Please raise an AHD with CCD ?\n",
      ">thank you\n",
      "Welccome . Is there anything else you would like to ask !)\n",
      ">no\n",
      "It was nice talking to you. See you soon :)\n",
      ">quit\n",
      "BBye take care. See you soon :) \n"
     ]
    }
   ],
   "source": [
    "chatty()"
   ]
  },
  {
   "cell_type": "markdown",
   "metadata": {},
   "source": [
    "The nltk.chat chatbots work on the regex of keywords present in your question. So you can add any number of questions in a proper format so that your chatbot doesn’t get confused in determining the regex."
   ]
  },
  {
   "cell_type": "markdown",
   "metadata": {},
   "source": [
    "# Simple retrieval based chat bot using Python"
   ]
  },
  {
   "cell_type": "code",
   "execution_count": 2,
   "metadata": {},
   "outputs": [],
   "source": [
    "import nltk\n",
    "import numpy as np\n",
    "import random\n",
    "import string # to process standard python strings"
   ]
  },
  {
   "cell_type": "code",
   "execution_count": 3,
   "metadata": {},
   "outputs": [
    {
     "name": "stdout",
     "output_type": "stream",
     "text": [
      "[nltk_data] Downloading package punkt to\n",
      "[nltk_data]     C:\\Users\\Plaban_Nayak\\AppData\\Roaming\\nltk_data...\n",
      "[nltk_data]   Package punkt is already up-to-date!\n",
      "[nltk_data] Downloading package wordnet to\n",
      "[nltk_data]     C:\\Users\\Plaban_Nayak\\AppData\\Roaming\\nltk_data...\n",
      "[nltk_data]   Package wordnet is already up-to-date!\n"
     ]
    },
    {
     "data": {
      "text/plain": [
       "True"
      ]
     },
     "execution_count": 3,
     "metadata": {},
     "output_type": "execute_result"
    }
   ],
   "source": [
    "#Reading in the data\n",
    "#We will read in the corpus.txt file and convert the entire corpus into a list of sentences and a list of words for further pre-processing.\n",
    "\n",
    "f=open('chatbot.txt','r',errors = 'ignore')\n",
    "raw=f.read()\n",
    "raw=raw.lower()# converts to lowercase\n",
    "nltk.download('punkt') # first-time use only\n",
    "nltk.download('wordnet') # first-time use only"
   ]
  },
  {
   "cell_type": "code",
   "execution_count": 4,
   "metadata": {},
   "outputs": [
    {
     "data": {
      "text/plain": [
       "'a chatbot (also known as a smartbots, talkbot, chatterbot, bot, im bot, interactive agent, conversational interface or artificial conversational entity) is a computer program or an artificial intelligence which conducts a conversation via auditory or textual methods.[1] such programs are often designed to convincingly simulate how a human would behave as a conversational partner, thereby passing the turing test. chatbots are typically used in dialog systems for various practical purposes including customer service or information acquisition. some chatterbots use sophisticated natural language processing systems, but many simpler systems scan for keywords within the input, then pull a reply with the most matching keywords, or the most similar wording pattern, from a database.\\n\\nthe term \"chatterbot\" was originally coined by michael mauldin (creator of the first verbot, julia) in 1994 to describe these conversational programs.[2] today, most chatbots are either accessed via virtual assistants such as google assistant and amazon alexa, via messaging apps such as facebook messenger or wechat, or via individual organizations\\' apps and websites.[3][4] chatbots can be classified into usage categories such as conversational commerce (e-commerce via chat), analytics, communication, customer support, design, developer tools, education, entertainment, finance, food, games, health, hr, marketing, news, personal, productivity, shopping, social, sports, travel and utilities.\\n\\nin 1950, alan turing\\'s famous article \"computing machinery and intelligence\" was published,[6] which proposed what is now called the turing test as a criterion of intelligence. this criterion depends on the ability of a computer program to impersonate a human in a real-time written conversation with a human judge, sufficiently well that the judge is unable to distinguish reliablyâ€”on the basis of the conversational content aloneâ€”between the program and a real human. the notoriety of turing\\'s proposed test stimulated great interest in joseph weizenbaum\\'s program eliza, published in 1966, which seemed to be able to fool users into believing that they were conversing with a real human. however weizenbaum himself did not claim that eliza was genuinely intelligent, and the introduction to his paper presented it more as a debunking exercise:\\n\\nin artificial intelligence ... machines are made to behave in wondrous ways, often sufficient to dazzle even the most experienced observer. but once a particular program is unmasked, once its inner workings are explained ... its magic crumbles away; it stands revealed as a mere collection of procedures ... the observer says to himself \"i could have written that\". with that thought he moves the program in question from the shelf marked \"intelligent\", to that reserved for curios ... the object of this paper is to cause just such a re-evaluation of the program about to be \"explained\". few programs ever needed it more.[7]\\n\\neliza\\'s key method of operation (copied by chatbot designers ever since) involves the recognition of cue words or phrases in the input, and the output of corresponding pre-prepared or pre-programmed responses that can move the conversation forward in an apparently meaningful way (e.g. by responding to any input that contains the word \\'mother\\' with \\'tell me more about your family\\').[8] thus an illusion of understanding is generated, even though the processing involved has been merely superficial. eliza showed that such an illusion is surprisingly easy to generate, because human judges are so ready to give the benefit of the doubt when conversational responses are capable of being interpreted as \"intelligent\".\\n\\ninterface designers have come to appreciate that humans\\' readiness to interpret computer output as genuinely conversationalâ€”even when it is actually based on rather simple pattern-matchingâ€”can be exploited for useful purposes. most people prefer to engage with programs that are human-like, and this gives chatbot-style techniques a potentially useful role in interactive systems that need to elicit information from users, as long as that information is relatively straightforward and falls into predictable categories. thus, for example, online help systems can usefully employ chatbot techniques to identify the area of help that users require, potentially providing a \"friendlier\" interface than a more formal search or menu system. this sort of usage holds the prospect of moving chatbot technology from weizenbaum\\'s \"shelf ... reserved for curios\" to that marked \"genuinely useful computational methods\".'"
      ]
     },
     "execution_count": 4,
     "metadata": {},
     "output_type": "execute_result"
    }
   ],
   "source": [
    "raw"
   ]
  },
  {
   "cell_type": "code",
   "execution_count": 5,
   "metadata": {},
   "outputs": [],
   "source": [
    "sent_tokens = nltk.sent_tokenize(raw)# converts to list of sentences \n",
    "word_tokens = nltk.word_tokenize(raw)# converts to list of words"
   ]
  },
  {
   "cell_type": "code",
   "execution_count": 6,
   "metadata": {},
   "outputs": [
    {
     "data": {
      "text/plain": [
       "['a chatbot (also known as a smartbots, talkbot, chatterbot, bot, im bot, interactive agent, conversational interface or artificial conversational entity) is a computer program or an artificial intelligence which conducts a conversation via auditory or textual methods.',\n",
       " '[1] such programs are often designed to convincingly simulate how a human would behave as a conversational partner, thereby passing the turing test.']"
      ]
     },
     "execution_count": 6,
     "metadata": {},
     "output_type": "execute_result"
    }
   ],
   "source": [
    "sent_tokens[:2]"
   ]
  },
  {
   "cell_type": "code",
   "execution_count": 7,
   "metadata": {},
   "outputs": [
    {
     "data": {
      "text/plain": [
       "['a', 'chatbot']"
      ]
     },
     "execution_count": 7,
     "metadata": {},
     "output_type": "execute_result"
    }
   ],
   "source": [
    "word_tokens[:2]"
   ]
  },
  {
   "cell_type": "markdown",
   "metadata": {},
   "source": [
    "#### Pre-processing the raw text"
   ]
  },
  {
   "cell_type": "code",
   "execution_count": 16,
   "metadata": {},
   "outputs": [],
   "source": [
    "#Pre-processing the raw text\n",
    "from nltk import WordNetLemmatizer\n",
    "lemmer = WordNetLemmatizer()\n",
    "def LemTokens(tokens):\n",
    "    return [lemmer.lemmatize(token) for token in tokens]\n",
    "remove_punct_dict = dict((ord(punct), None) for punct in string.punctuation)"
   ]
  },
  {
   "cell_type": "code",
   "execution_count": 12,
   "metadata": {},
   "outputs": [
    {
     "data": {
      "text/plain": [
       "{33: None,\n",
       " 34: None,\n",
       " 35: None,\n",
       " 36: None,\n",
       " 37: None,\n",
       " 38: None,\n",
       " 39: None,\n",
       " 40: None,\n",
       " 41: None,\n",
       " 42: None,\n",
       " 43: None,\n",
       " 44: None,\n",
       " 45: None,\n",
       " 46: None,\n",
       " 47: None,\n",
       " 58: None,\n",
       " 59: None,\n",
       " 60: None,\n",
       " 61: None,\n",
       " 62: None,\n",
       " 63: None,\n",
       " 64: None,\n",
       " 91: None,\n",
       " 92: None,\n",
       " 93: None,\n",
       " 94: None,\n",
       " 95: None,\n",
       " 96: None,\n",
       " 123: None,\n",
       " 124: None,\n",
       " 125: None,\n",
       " 126: None}"
      ]
     },
     "execution_count": 12,
     "metadata": {},
     "output_type": "execute_result"
    }
   ],
   "source": [
    "remove_punct_dict"
   ]
  },
  {
   "cell_type": "code",
   "execution_count": 26,
   "metadata": {},
   "outputs": [],
   "source": [
    "def LemNormalize(text):\n",
    "    word = nltk.word_tokenize(text.lower())\n",
    "    words = []\n",
    "    for items in word:\n",
    "        if items not in string.punctuation:\n",
    "            words.append(items)\n",
    "    return LemTokens(word)"
   ]
  },
  {
   "cell_type": "code",
   "execution_count": 27,
   "metadata": {},
   "outputs": [
    {
     "name": "stdout",
     "output_type": "stream",
     "text": [
      "['a', 'chatbot', '(', 'also', 'known', 'a', 'a', 'smartbots', ',', 'talkbot', ',', 'chatterbot', ',', 'bot', ',', 'im', 'bot', ',', 'interactive', 'agent', ',', 'conversational', 'interface', 'or', 'artificial', 'conversational', 'entity', ')', 'is', 'a', 'computer', 'program', 'or', 'an', 'artificial', 'intelligence', 'which', 'conduct', 'a', 'conversation', 'via', 'auditory', 'or', 'textual', 'method', '.']\n",
      "['[', '1', ']', 'such', 'program', 'are', 'often', 'designed', 'to', 'convincingly', 'simulate', 'how', 'a', 'human', 'would', 'behave', 'a', 'a', 'conversational', 'partner', ',', 'thereby', 'passing', 'the', 'turing', 'test', '.']\n",
      "['chatbots', 'are', 'typically', 'used', 'in', 'dialog', 'system', 'for', 'various', 'practical', 'purpose', 'including', 'customer', 'service', 'or', 'information', 'acquisition', '.']\n",
      "['some', 'chatterbots', 'use', 'sophisticated', 'natural', 'language', 'processing', 'system', ',', 'but', 'many', 'simpler', 'system', 'scan', 'for', 'keywords', 'within', 'the', 'input', ',', 'then', 'pull', 'a', 'reply', 'with', 'the', 'most', 'matching', 'keywords', ',', 'or', 'the', 'most', 'similar', 'wording', 'pattern', ',', 'from', 'a', 'database', '.']\n",
      "['the', 'term', '``', 'chatterbot', \"''\", 'wa', 'originally', 'coined', 'by', 'michael', 'mauldin', '(', 'creator', 'of', 'the', 'first', 'verbot', ',', 'julia', ')', 'in', '1994', 'to', 'describe', 'these', 'conversational', 'program', '.']\n",
      "['[', '2', ']', 'today', ',', 'most', 'chatbots', 'are', 'either', 'accessed', 'via', 'virtual', 'assistant', 'such', 'a', 'google', 'assistant', 'and', 'amazon', 'alexa', ',', 'via', 'messaging', 'apps', 'such', 'a', 'facebook', 'messenger', 'or', 'wechat', ',', 'or', 'via', 'individual', 'organization', \"'\", 'apps', 'and', 'website', '.']\n",
      "['[', '3', ']', '[', '4', ']', 'chatbots', 'can', 'be', 'classified', 'into', 'usage', 'category', 'such', 'a', 'conversational', 'commerce', '(', 'e-commerce', 'via', 'chat', ')', ',', 'analytics', ',', 'communication', ',', 'customer', 'support', ',', 'design', ',', 'developer', 'tool', ',', 'education', ',', 'entertainment', ',', 'finance', ',', 'food', ',', 'game', ',', 'health', ',', 'hr', ',', 'marketing', ',', 'news', ',', 'personal', ',', 'productivity', ',', 'shopping', ',', 'social', ',', 'sport', ',', 'travel', 'and', 'utility', '.']\n",
      "['in', '1950', ',', 'alan', 'turing', \"'s\", 'famous', 'article', '``', 'computing', 'machinery', 'and', 'intelligence', \"''\", 'wa', 'published', ',', '[', '6', ']', 'which', 'proposed', 'what', 'is', 'now', 'called', 'the', 'turing', 'test', 'a', 'a', 'criterion', 'of', 'intelligence', '.']\n",
      "['this', 'criterion', 'depends', 'on', 'the', 'ability', 'of', 'a', 'computer', 'program', 'to', 'impersonate', 'a', 'human', 'in', 'a', 'real-time', 'written', 'conversation', 'with', 'a', 'human', 'judge', ',', 'sufficiently', 'well', 'that', 'the', 'judge', 'is', 'unable', 'to', 'distinguish', 'reliablyâ€', '”', 'on', 'the', 'basis', 'of', 'the', 'conversational', 'content', 'aloneâ€', '”', 'between', 'the', 'program', 'and', 'a', 'real', 'human', '.']\n",
      "['the', 'notoriety', 'of', 'turing', \"'s\", 'proposed', 'test', 'stimulated', 'great', 'interest', 'in', 'joseph', 'weizenbaum', \"'s\", 'program', 'eliza', ',', 'published', 'in', '1966', ',', 'which', 'seemed', 'to', 'be', 'able', 'to', 'fool', 'user', 'into', 'believing', 'that', 'they', 'were', 'conversing', 'with', 'a', 'real', 'human', '.']\n",
      "['however', 'weizenbaum', 'himself', 'did', 'not', 'claim', 'that', 'eliza', 'wa', 'genuinely', 'intelligent', ',', 'and', 'the', 'introduction', 'to', 'his', 'paper', 'presented', 'it', 'more', 'a', 'a', 'debunking', 'exercise', ':', 'in', 'artificial', 'intelligence', '...', 'machine', 'are', 'made', 'to', 'behave', 'in', 'wondrous', 'way', ',', 'often', 'sufficient', 'to', 'dazzle', 'even', 'the', 'most', 'experienced', 'observer', '.']\n",
      "['but', 'once', 'a', 'particular', 'program', 'is', 'unmasked', ',', 'once', 'it', 'inner', 'working', 'are', 'explained', '...', 'it', 'magic', 'crumbles', 'away', ';', 'it', 'stand', 'revealed', 'a', 'a', 'mere', 'collection', 'of', 'procedure', '...', 'the', 'observer', 'say', 'to', 'himself', '``', 'i', 'could', 'have', 'written', 'that', \"''\", '.']\n",
      "['with', 'that', 'thought', 'he', 'move', 'the', 'program', 'in', 'question', 'from', 'the', 'shelf', 'marked', '``', 'intelligent', \"''\", ',', 'to', 'that', 'reserved', 'for', 'curio', '...', 'the', 'object', 'of', 'this', 'paper', 'is', 'to', 'cause', 'just', 'such', 'a', 're-evaluation', 'of', 'the', 'program', 'about', 'to', 'be', '``', 'explained', \"''\", '.']\n",
      "['few', 'program', 'ever', 'needed', 'it', 'more', '.']\n",
      "['[', '7', ']', 'eliza', \"'s\", 'key', 'method', 'of', 'operation', '(', 'copied', 'by', 'chatbot', 'designer', 'ever', 'since', ')', 'involves', 'the', 'recognition', 'of', 'cue', 'word', 'or', 'phrase', 'in', 'the', 'input', ',', 'and', 'the', 'output', 'of', 'corresponding', 'pre-prepared', 'or', 'pre-programmed', 'response', 'that', 'can', 'move', 'the', 'conversation', 'forward', 'in', 'an', 'apparently', 'meaningful', 'way', '(', 'e.g', '.']\n",
      "['by', 'responding', 'to', 'any', 'input', 'that', 'contains', 'the', 'word', \"'mother\", \"'\", 'with', \"'tell\", 'me', 'more', 'about', 'your', 'family', \"'\", ')', '.']\n",
      "['[', '8', ']', 'thus', 'an', 'illusion', 'of', 'understanding', 'is', 'generated', ',', 'even', 'though', 'the', 'processing', 'involved', 'ha', 'been', 'merely', 'superficial', '.']\n",
      "['eliza', 'showed', 'that', 'such', 'an', 'illusion', 'is', 'surprisingly', 'easy', 'to', 'generate', ',', 'because', 'human', 'judge', 'are', 'so', 'ready', 'to', 'give', 'the', 'benefit', 'of', 'the', 'doubt', 'when', 'conversational', 'response', 'are', 'capable', 'of', 'being', 'interpreted', 'a', '``', 'intelligent', \"''\", '.']\n",
      "['interface', 'designer', 'have', 'come', 'to', 'appreciate', 'that', 'human', \"'\", 'readiness', 'to', 'interpret', 'computer', 'output', 'a', 'genuinely', 'conversationalâ€', '”', 'even', 'when', 'it', 'is', 'actually', 'based', 'on', 'rather', 'simple', 'pattern-matchingâ€', '”', 'can', 'be', 'exploited', 'for', 'useful', 'purpose', '.']\n",
      "['most', 'people', 'prefer', 'to', 'engage', 'with', 'program', 'that', 'are', 'human-like', ',', 'and', 'this', 'give', 'chatbot-style', 'technique', 'a', 'potentially', 'useful', 'role', 'in', 'interactive', 'system', 'that', 'need', 'to', 'elicit', 'information', 'from', 'user', ',', 'a', 'long', 'a', 'that', 'information', 'is', 'relatively', 'straightforward', 'and', 'fall', 'into', 'predictable', 'category', '.']\n",
      "['thus', ',', 'for', 'example', ',', 'online', 'help', 'system', 'can', 'usefully', 'employ', 'chatbot', 'technique', 'to', 'identify', 'the', 'area', 'of', 'help', 'that', 'user', 'require', ',', 'potentially', 'providing', 'a', '``', 'friendlier', \"''\", 'interface', 'than', 'a', 'more', 'formal', 'search', 'or', 'menu', 'system', '.']\n",
      "['this', 'sort', 'of', 'usage', 'hold', 'the', 'prospect', 'of', 'moving', 'chatbot', 'technology', 'from', 'weizenbaum', \"'s\", '``', 'shelf', '...', 'reserved', 'for', 'curio', \"''\", 'to', 'that', 'marked', '``', 'genuinely', 'useful', 'computational', 'method', \"''\", '.']\n"
     ]
    }
   ],
   "source": [
    "for sent in sent_tokens:\n",
    "    print(LemNormalize(sent))"
   ]
  },
  {
   "cell_type": "code",
   "execution_count": 28,
   "metadata": {},
   "outputs": [],
   "source": [
    "#Keyword matching\n",
    "\n",
    "GREETING_INPUTS = (\"hello\", \"hi\", \"greetings\", \"sup\", \"what's up\",\"hey\",)\n",
    "GREETING_RESPONSES = [\"hi\", \"hey\", \"*nods*\", \"hi there\", \"hello\", \"I am glad! You are talking to me\"]\n",
    "def greeting(sentence):\n",
    "    for word in sentence.split():\n",
    "        if word.lower() in GREETING_INPUTS:\n",
    "            return random.choice(GREETING_RESPONSES)"
   ]
  },
  {
   "cell_type": "markdown",
   "metadata": {},
   "source": [
    "Generating Response\n",
    "To generate a response from our bot for input questions, the concept of document similarity will be used. So we begin by importing necessary modules."
   ]
  },
  {
   "cell_type": "markdown",
   "metadata": {},
   "source": [
    "# Generating Response\n",
    "To generate a response from our bot for input questions, the concept of document similarity will be used. So we begin by importing necessary modules."
   ]
  },
  {
   "cell_type": "markdown",
   "metadata": {},
   "source": [
    "* From scikit learn library, import the TFidf vectorizer to convert a collection of raw documents to a matrix of TF-IDF features."
   ]
  },
  {
   "cell_type": "code",
   "execution_count": 30,
   "metadata": {},
   "outputs": [],
   "source": [
    "from sklearn.feature_extraction.text import TfidfVectorizer"
   ]
  },
  {
   "cell_type": "markdown",
   "metadata": {},
   "source": [
    "# Compute Cosine Similarity"
   ]
  },
  {
   "cell_type": "markdown",
   "metadata": {},
   "source": [
    "Compute cosine similarity between samples in X and Y.\n",
    "\n",
    "Cosine similarity, or the cosine kernel, computes similarity as the normalized dot product of X and Y:\n",
    "\n",
    "#### K(X, Y) = <X, Y> / (||X||*||Y||)"
   ]
  },
  {
   "cell_type": "markdown",
   "metadata": {},
   "source": [
    "This will be used to find the similarity between words entered by the user and the words in the corpus. This is the simplest possible implementation of a chatbot."
   ]
  },
  {
   "cell_type": "markdown",
   "metadata": {},
   "source": [
    "#### The function response\n",
    "it  searches the user’s utterance for one or more known keywords and returns one of several possible responses. If it doesn’t find the input matching any of the keywords, it returns a response:” I am sorry! I don’t understand you”"
   ]
  },
  {
   "cell_type": "code",
   "execution_count": 33,
   "metadata": {},
   "outputs": [],
   "source": [
    "from sklearn.metrics.pairwise import cosine_similarity"
   ]
  },
  {
   "cell_type": "code",
   "execution_count": 40,
   "metadata": {},
   "outputs": [],
   "source": [
    "def response(user_response):\n",
    "    robo_response=''\n",
    "    sent_tokens.append(user_response)\n",
    "    TfidfVec = TfidfVectorizer(tokenizer=LemNormalize, stop_words='english')\n",
    "    tfidf = TfidfVec.fit_transform(sent_tokens)\n",
    "    print(tfidf)\n",
    "    print(tfidf[-1])\n",
    "    vals = cosine_similarity(tfidf[-1], tfidf)\n",
    "    print(vals.argsort()[0])\n",
    "    print(vals.argsort()[0][-2])\n",
    "    idx=vals.argsort()[0][-2]\n",
    "    flat = vals.flatten()\n",
    "    flat.sort()\n",
    "    print(flat)\n",
    "    req_tfidf = flat[-2]\n",
    "    print(req_tfidf)\n",
    "    if(req_tfidf==0):\n",
    "        robo_response=robo_response+\"I am sorry! I don't understand you\"\n",
    "        return robo_response\n",
    "    else:\n",
    "        robo_response = robo_response+sent_tokens[idx]\n",
    "        return robo_response"
   ]
  },
  {
   "cell_type": "code",
   "execution_count": 41,
   "metadata": {},
   "outputs": [
    {
     "name": "stdout",
     "output_type": "stream",
     "text": [
      "ROBO: My name is Robo. I will answer your queries about Chatbots. If you want to exit, type Bye!\n",
      "how is the weather today\n",
      "ROBO:   (0, 56)\t0.13589871341160029\n",
      "  (0, 5)\t0.13589871341160029\n",
      "  (0, 162)\t0.18361884922296193\n",
      "  (0, 246)\t0.18361884922296193\n",
      "  (0, 7)\t0.41512846717667423\n",
      "  (0, 259)\t0.18361884922296193\n",
      "  (0, 59)\t0.16250235273050645\n",
      "  (0, 50)\t0.36723769844592385\n",
      "  (0, 140)\t0.18361884922296193\n",
      "  (0, 149)\t0.16250235273050645\n",
      "  (0, 30)\t0.18361884922296193\n",
      "  (0, 75)\t0.23675068833775198\n",
      "  (0, 150)\t0.14751996003532594\n",
      "  (0, 41)\t0.3250047054610129\n",
      "  (0, 109)\t0.18361884922296193\n",
      "  (0, 6)\t0.12640346354287046\n",
      "  (0, 69)\t0.14751996003532594\n",
      "  (0, 212)\t0.09979982422396429\n",
      "  (0, 147)\t0.14751996003532594\n",
      "  (0, 71)\t0.18361884922296193\n",
      "  (0, 74)\t0.14751996003532594\n",
      "  (0, 43)\t0.18361884922296193\n",
      "  (0, 264)\t0.18361884922296193\n",
      "  (0, 178)\t0.14751996003532594\n",
      "  (0, 8)\t0.05642217662548991\n",
      "  :\t:\n",
      "  (21, 56)\t0.17855384347751077\n",
      "  (21, 178)\t0.1938227021633292\n",
      "  (21, 8)\t0.0741316546782572\n",
      "  (21, 24)\t0.2927865900242859\n",
      "  (21, 1)\t0.2927865900242859\n",
      "  (21, 275)\t0.21350768469963563\n",
      "  (21, 3)\t0.17855384347751077\n",
      "  (21, 290)\t0.1938227021633292\n",
      "  (21, 128)\t0.1938227021633292\n",
      "  (21, 9)\t0.17855384347751077\n",
      "  (21, 239)\t0.21350768469963563\n",
      "  (21, 168)\t0.21350768469963563\n",
      "  (21, 230)\t0.21350768469963563\n",
      "  (21, 85)\t0.21350768469963563\n",
      "  (21, 278)\t0.1938227021633292\n",
      "  (21, 249)\t0.24125210931451543\n",
      "  (21, 134)\t0.24125210931451543\n",
      "  (21, 214)\t0.24125210931451543\n",
      "  (21, 180)\t0.24125210931451543\n",
      "  (21, 261)\t0.24125210931451543\n",
      "  (21, 68)\t0.24125210931451543\n",
      "  (22, 271)\t0.7071067811865476\n",
      "  (22, 98)\t0.7071067811865476\n",
      "  (23, 266)\t0.6627346931058821\n",
      "  (23, 287)\t0.7488542759134466\n",
      "  (0, 266)\t0.6627346931058821\n",
      "  (0, 287)\t0.7488542759134466\n",
      "[ 0 21 20 19 18 17 16 15 14 13 12 11 10  9  8  7  6  4  3  2  1 22  5 23]\n",
      "5\n",
      "[0.        0.        0.        0.        0.        0.        0.\n",
      " 0.        0.        0.        0.        0.        0.        0.\n",
      " 0.        0.        0.        0.        0.        0.        0.\n",
      " 0.        0.1166579 1.       ]\n",
      "0.11665790302903872\n",
      "[2] today, most chatbots are either accessed via virtual assistants such as google assistant and amazon alexa, via messaging apps such as facebook messenger or wechat, or via individual organizations' apps and websites.\n",
      "quit\n",
      "ROBO:   (0, 56)\t0.13589871341160029\n",
      "  (0, 5)\t0.13589871341160029\n",
      "  (0, 162)\t0.18361884922296193\n",
      "  (0, 247)\t0.18361884922296193\n",
      "  (0, 7)\t0.41512846717667423\n",
      "  (0, 260)\t0.18361884922296193\n",
      "  (0, 59)\t0.16250235273050645\n",
      "  (0, 50)\t0.36723769844592385\n",
      "  (0, 140)\t0.18361884922296193\n",
      "  (0, 149)\t0.16250235273050645\n",
      "  (0, 30)\t0.18361884922296193\n",
      "  (0, 75)\t0.23675068833775198\n",
      "  (0, 150)\t0.14751996003532594\n",
      "  (0, 41)\t0.3250047054610129\n",
      "  (0, 109)\t0.18361884922296193\n",
      "  (0, 6)\t0.12640346354287046\n",
      "  (0, 69)\t0.14751996003532594\n",
      "  (0, 212)\t0.09979982422396429\n",
      "  (0, 147)\t0.14751996003532594\n",
      "  (0, 71)\t0.18361884922296193\n",
      "  (0, 74)\t0.14751996003532594\n",
      "  (0, 43)\t0.18361884922296193\n",
      "  (0, 265)\t0.18361884922296193\n",
      "  (0, 178)\t0.14751996003532594\n",
      "  (0, 8)\t0.05642217662548991\n",
      "  :\t:\n",
      "  (20, 173)\t0.2155963927257892\n",
      "  (21, 56)\t0.17855384347751077\n",
      "  (21, 178)\t0.1938227021633292\n",
      "  (21, 8)\t0.0741316546782572\n",
      "  (21, 24)\t0.2927865900242859\n",
      "  (21, 1)\t0.2927865900242859\n",
      "  (21, 276)\t0.21350768469963563\n",
      "  (21, 3)\t0.17855384347751077\n",
      "  (21, 290)\t0.1938227021633292\n",
      "  (21, 128)\t0.1938227021633292\n",
      "  (21, 9)\t0.17855384347751077\n",
      "  (21, 240)\t0.21350768469963563\n",
      "  (21, 168)\t0.21350768469963563\n",
      "  (21, 231)\t0.21350768469963563\n",
      "  (21, 85)\t0.21350768469963563\n",
      "  (21, 279)\t0.1938227021633292\n",
      "  (21, 250)\t0.24125210931451543\n",
      "  (21, 134)\t0.24125210931451543\n",
      "  (21, 214)\t0.24125210931451543\n",
      "  (21, 180)\t0.24125210931451543\n",
      "  (21, 262)\t0.24125210931451543\n",
      "  (21, 68)\t0.24125210931451543\n",
      "  (22, 272)\t0.7071067811865476\n",
      "  (22, 98)\t0.7071067811865476\n",
      "  (23, 220)\t1.0\n",
      "  (0, 220)\t1.0\n",
      "[ 0 21 20 19 18 17 16 15 14 13 12 11 10  9  8  7  6  5  4  3  2  1 22 23]\n",
      "22\n",
      "[0. 0. 0. 0. 0. 0. 0. 0. 0. 0. 0. 0. 0. 0. 0. 0. 0. 0. 0. 0. 0. 0. 0. 1.]\n",
      "0.0\n",
      "I am sorry! I don't understand you\n",
      "quit\n",
      "ROBO:   (0, 56)\t0.13589871341160029\n",
      "  (0, 5)\t0.13589871341160029\n",
      "  (0, 162)\t0.18361884922296193\n",
      "  (0, 247)\t0.18361884922296193\n",
      "  (0, 7)\t0.41512846717667423\n",
      "  (0, 260)\t0.18361884922296193\n",
      "  (0, 59)\t0.16250235273050645\n",
      "  (0, 50)\t0.36723769844592385\n",
      "  (0, 140)\t0.18361884922296193\n",
      "  (0, 149)\t0.16250235273050645\n",
      "  (0, 30)\t0.18361884922296193\n",
      "  (0, 75)\t0.23675068833775198\n",
      "  (0, 150)\t0.14751996003532594\n",
      "  (0, 41)\t0.3250047054610129\n",
      "  (0, 109)\t0.18361884922296193\n",
      "  (0, 6)\t0.12640346354287046\n",
      "  (0, 69)\t0.14751996003532594\n",
      "  (0, 212)\t0.09979982422396429\n",
      "  (0, 147)\t0.14751996003532594\n",
      "  (0, 71)\t0.18361884922296193\n",
      "  (0, 74)\t0.14751996003532594\n",
      "  (0, 43)\t0.18361884922296193\n",
      "  (0, 265)\t0.18361884922296193\n",
      "  (0, 178)\t0.14751996003532594\n",
      "  (0, 8)\t0.05642217662548991\n",
      "  :\t:\n",
      "  (20, 173)\t0.2155963927257892\n",
      "  (21, 56)\t0.17855384347751077\n",
      "  (21, 178)\t0.1938227021633292\n",
      "  (21, 8)\t0.0741316546782572\n",
      "  (21, 24)\t0.2927865900242859\n",
      "  (21, 1)\t0.2927865900242859\n",
      "  (21, 276)\t0.21350768469963563\n",
      "  (21, 3)\t0.17855384347751077\n",
      "  (21, 290)\t0.1938227021633292\n",
      "  (21, 128)\t0.1938227021633292\n",
      "  (21, 9)\t0.17855384347751077\n",
      "  (21, 240)\t0.21350768469963563\n",
      "  (21, 168)\t0.21350768469963563\n",
      "  (21, 231)\t0.21350768469963563\n",
      "  (21, 85)\t0.21350768469963563\n",
      "  (21, 279)\t0.1938227021633292\n",
      "  (21, 250)\t0.24125210931451543\n",
      "  (21, 134)\t0.24125210931451543\n",
      "  (21, 214)\t0.24125210931451543\n",
      "  (21, 180)\t0.24125210931451543\n",
      "  (21, 262)\t0.24125210931451543\n",
      "  (21, 68)\t0.24125210931451543\n",
      "  (22, 272)\t0.7071067811865476\n",
      "  (22, 98)\t0.7071067811865476\n",
      "  (23, 220)\t1.0\n",
      "  (0, 220)\t1.0\n",
      "[ 0 21 20 19 18 17 16 15 14 13 12 11 10  9  8  7  6  5  4  3  2  1 22 23]\n",
      "22\n",
      "[0. 0. 0. 0. 0. 0. 0. 0. 0. 0. 0. 0. 0. 0. 0. 0. 0. 0. 0. 0. 0. 0. 0. 1.]\n",
      "0.0\n",
      "I am sorry! I don't understand you\n",
      "bye\n",
      "ROBO: Bye! take care..\n"
     ]
    }
   ],
   "source": [
    "flag=True\n",
    "print(\"ROBO: My name is Robo. I will answer your queries about Chatbots. If you want to exit, type Bye!\")\n",
    "while(flag==True):\n",
    "    user_response = input()\n",
    "    user_response=user_response.lower()\n",
    "    if(user_response!='bye'):\n",
    "        if(user_response=='thanks' or user_response=='thank you' ):\n",
    "            flag=False\n",
    "            print(\"ROBO: You are welcome..\")\n",
    "        else:\n",
    "            if(greeting(user_response)!=None):\n",
    "                print(\"ROBO: \"+greeting(user_response))\n",
    "            else:\n",
    "                print(\"ROBO: \",end=\"\")\n",
    "                print(response(user_response))\n",
    "                sent_tokens.remove(user_response)\n",
    "    else:\n",
    "        flag=False\n",
    "        print(\"ROBO: Bye! take care..\")"
   ]
  }
 ],
 "metadata": {
  "kernelspec": {
   "display_name": "Python 3",
   "language": "python",
   "name": "python3"
  },
  "language_info": {
   "codemirror_mode": {
    "name": "ipython",
    "version": 3
   },
   "file_extension": ".py",
   "mimetype": "text/x-python",
   "name": "python",
   "nbconvert_exporter": "python",
   "pygments_lexer": "ipython3",
   "version": "3.6.6"
  }
 },
 "nbformat": 4,
 "nbformat_minor": 2
}
